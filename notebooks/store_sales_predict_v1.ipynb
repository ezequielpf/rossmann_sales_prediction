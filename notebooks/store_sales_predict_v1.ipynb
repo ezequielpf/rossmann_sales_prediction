{
 "cells": [
  {
   "cell_type": "markdown",
   "metadata": {},
   "source": [
    "# 0. The problem"
   ]
  },
  {
   "cell_type": "markdown",
   "metadata": {
    "vscode": {
     "languageId": "plaintext"
    }
   },
   "source": [
    "Source: https://www.kaggle.com/competitions/rossmann-store-sales/overview"
   ]
  },
  {
   "cell_type": "markdown",
   "metadata": {},
   "source": [
    "## Context"
   ]
  },
  {
   "cell_type": "markdown",
   "metadata": {},
   "source": [
    "Rossmann operates over 3,000 drug stores in 7 European countries. Currently, Rossmann store managers are tasked with predicting their daily sales for up to six weeks in advance. Store sales are influenced by many factors, including promotions, competition, school and state holidays, seasonality, and locality. With thousands of individual managers predicting sales based on their unique circumstances, the accuracy of results can be quite varied."
   ]
  },
  {
   "cell_type": "markdown",
   "metadata": {},
   "source": [
    "## Solution"
   ]
  },
  {
   "cell_type": "markdown",
   "metadata": {},
   "source": [
    "Predict 6 weeks of daily sales for 1115 stores located across Germany. Reliable sales forecasts enable store managers to create effective staff schedules that increase productivity and motivation. By helping Rossmann create a robust prediction model, you will help store managers stay focused on what’s most important to them: their customers and their teams! "
   ]
  },
  {
   "cell_type": "markdown",
   "metadata": {},
   "source": [
    "# 1. Data description"
   ]
  },
  {
   "cell_type": "markdown",
   "metadata": {},
   "source": [
    "**Files**\n",
    "- train.csv - historical data including Sales\n",
    "- test.csv - historical data excluding Sales\n",
    "- store.csv - supplemental information about the stores\n",
    "\n",
    "**Data fields**\n",
    "- Id - an Id that represents a (Store, Date) duple within the test set\n",
    "- Store - a unique Id for each store\n",
    "- Sales - the turnover for any given day (this is what you are predicting)\n",
    "- Customers - the number of customers on a given day\n",
    "- Open - an indicator for whether the store was open: 0 = closed, 1 = open\n",
    "- StateHoliday - indicates a state holiday. Normally all stores, with few exceptions, are closed on state holidays. Note that all schools are closed on public holidays and weekends. a = public holiday, b = Easter holiday, c = Christmas, 0 = None\n",
    "- SchoolHoliday - indicates if the (Store, Date) was affected by the closure of public schools\n",
    "- StoreType - differentiates between 4 different store models: a, b, c, d\n",
    "- Assortment - describes an assortment level: a = basic, b = extra, c = extended\n",
    "- CompetitionDistance - distance in meters to the nearest competitor store\n",
    "- CompetitionOpenSince[Month/Year] - gives the approximate year and month of the time the nearest competitor was opened\n",
    "- Promo - indicates whether a store is running a promo on that day\n",
    "- Promo2 - Promo2 is a continuing and consecutive promotion for some stores: 0 = store is not participating, 1 = store is participating\n",
    "- Promo2Since[Year/Week] - describes the year and calendar week when the store started participating in Promo2\n",
    "- PromoInterval - describes the consecutive intervals Promo2 is started, naming the months the promotion is started anew. E.g. \"Feb,May,Aug,Nov\" means each round starts in February, May, August, November of any given year for that store"
   ]
  },
  {
   "cell_type": "markdown",
   "metadata": {},
   "source": [
    "## 1.1. Imports"
   ]
  },
  {
   "cell_type": "code",
   "execution_count": 1,
   "metadata": {},
   "outputs": [],
   "source": [
    "import pandas as pd\n",
    "import matplotlib.pyplot as plt\n",
    "import seaborn as sns\n",
    "sns.set_theme(style=\"whitegrid\")\n",
    "\n",
    "from sklearn.model_selection import train_test_split\n",
    "from sklearn.preprocessing import OneHotEncoder"
   ]
  },
  {
   "cell_type": "markdown",
   "metadata": {},
   "source": [
    "## 1.2. Loading data"
   ]
  },
  {
   "cell_type": "code",
   "execution_count": 2,
   "metadata": {},
   "outputs": [],
   "source": [
    "df_store = pd.read_csv(filepath_or_buffer=\"../data/store.csv\")\n",
    "df_train_raw = pd.read_csv(filepath_or_buffer=\"../data/train.csv\", low_memory=False)\n",
    "df_val = pd.read_csv(filepath_or_buffer=\"../data/test.csv\")"
   ]
  },
  {
   "cell_type": "markdown",
   "metadata": {},
   "source": [
    "# 2. Exploratory data analisys"
   ]
  },
  {
   "cell_type": "markdown",
   "metadata": {},
   "source": [
    "## 2.1. Data description"
   ]
  },
  {
   "cell_type": "markdown",
   "metadata": {},
   "source": [
    "### 2.1.1. Store"
   ]
  },
  {
   "cell_type": "code",
   "execution_count": 3,
   "metadata": {},
   "outputs": [
    {
     "name": "stdout",
     "output_type": "stream",
     "text": [
      "<class 'pandas.core.frame.DataFrame'>\n",
      "RangeIndex: 1115 entries, 0 to 1114\n",
      "Data columns (total 10 columns):\n",
      " #   Column                     Non-Null Count  Dtype  \n",
      "---  ------                     --------------  -----  \n",
      " 0   Store                      1115 non-null   int64  \n",
      " 1   StoreType                  1115 non-null   object \n",
      " 2   Assortment                 1115 non-null   object \n",
      " 3   CompetitionDistance        1112 non-null   float64\n",
      " 4   CompetitionOpenSinceMonth  761 non-null    float64\n",
      " 5   CompetitionOpenSinceYear   761 non-null    float64\n",
      " 6   Promo2                     1115 non-null   int64  \n",
      " 7   Promo2SinceWeek            571 non-null    float64\n",
      " 8   Promo2SinceYear            571 non-null    float64\n",
      " 9   PromoInterval              571 non-null    object \n",
      "dtypes: float64(5), int64(2), object(3)\n",
      "memory usage: 87.2+ KB\n"
     ]
    }
   ],
   "source": [
    "# Information of each store\n",
    "df_store.info()"
   ]
  },
  {
   "cell_type": "code",
   "execution_count": 4,
   "metadata": {},
   "outputs": [],
   "source": [
    "# Is there any duplicated store?\n",
    "assert df_store.duplicated(subset=['Store']).sum() == 0"
   ]
  },
  {
   "cell_type": "code",
   "execution_count": 5,
   "metadata": {},
   "outputs": [
    {
     "data": {
      "text/html": [
       "<div>\n",
       "<style scoped>\n",
       "    .dataframe tbody tr th:only-of-type {\n",
       "        vertical-align: middle;\n",
       "    }\n",
       "\n",
       "    .dataframe tbody tr th {\n",
       "        vertical-align: top;\n",
       "    }\n",
       "\n",
       "    .dataframe thead th {\n",
       "        text-align: right;\n",
       "    }\n",
       "</style>\n",
       "<table border=\"1\" class=\"dataframe\">\n",
       "  <thead>\n",
       "    <tr style=\"text-align: right;\">\n",
       "      <th></th>\n",
       "      <th>Store</th>\n",
       "      <th>StoreType</th>\n",
       "      <th>Assortment</th>\n",
       "      <th>CompetitionDistance</th>\n",
       "      <th>CompetitionOpenSinceMonth</th>\n",
       "      <th>CompetitionOpenSinceYear</th>\n",
       "      <th>Promo2</th>\n",
       "      <th>Promo2SinceWeek</th>\n",
       "      <th>Promo2SinceYear</th>\n",
       "      <th>PromoInterval</th>\n",
       "    </tr>\n",
       "  </thead>\n",
       "  <tbody>\n",
       "    <tr>\n",
       "      <th>660</th>\n",
       "      <td>661</td>\n",
       "      <td>d</td>\n",
       "      <td>c</td>\n",
       "      <td>2140.0</td>\n",
       "      <td>7.0</td>\n",
       "      <td>2013.0</td>\n",
       "      <td>0</td>\n",
       "      <td>NaN</td>\n",
       "      <td>NaN</td>\n",
       "      <td>NaN</td>\n",
       "    </tr>\n",
       "    <tr>\n",
       "      <th>890</th>\n",
       "      <td>891</td>\n",
       "      <td>a</td>\n",
       "      <td>c</td>\n",
       "      <td>350.0</td>\n",
       "      <td>NaN</td>\n",
       "      <td>NaN</td>\n",
       "      <td>1</td>\n",
       "      <td>31.0</td>\n",
       "      <td>2013.0</td>\n",
       "      <td>Feb,May,Aug,Nov</td>\n",
       "    </tr>\n",
       "    <tr>\n",
       "      <th>622</th>\n",
       "      <td>623</td>\n",
       "      <td>a</td>\n",
       "      <td>a</td>\n",
       "      <td>4080.0</td>\n",
       "      <td>3.0</td>\n",
       "      <td>2011.0</td>\n",
       "      <td>1</td>\n",
       "      <td>13.0</td>\n",
       "      <td>2010.0</td>\n",
       "      <td>Jan,Apr,Jul,Oct</td>\n",
       "    </tr>\n",
       "    <tr>\n",
       "      <th>184</th>\n",
       "      <td>185</td>\n",
       "      <td>d</td>\n",
       "      <td>c</td>\n",
       "      <td>1860.0</td>\n",
       "      <td>5.0</td>\n",
       "      <td>2015.0</td>\n",
       "      <td>0</td>\n",
       "      <td>NaN</td>\n",
       "      <td>NaN</td>\n",
       "      <td>NaN</td>\n",
       "    </tr>\n",
       "    <tr>\n",
       "      <th>413</th>\n",
       "      <td>414</td>\n",
       "      <td>d</td>\n",
       "      <td>c</td>\n",
       "      <td>6210.0</td>\n",
       "      <td>NaN</td>\n",
       "      <td>NaN</td>\n",
       "      <td>1</td>\n",
       "      <td>1.0</td>\n",
       "      <td>2013.0</td>\n",
       "      <td>Jan,Apr,Jul,Oct</td>\n",
       "    </tr>\n",
       "    <tr>\n",
       "      <th>6</th>\n",
       "      <td>7</td>\n",
       "      <td>a</td>\n",
       "      <td>c</td>\n",
       "      <td>24000.0</td>\n",
       "      <td>4.0</td>\n",
       "      <td>2013.0</td>\n",
       "      <td>0</td>\n",
       "      <td>NaN</td>\n",
       "      <td>NaN</td>\n",
       "      <td>NaN</td>\n",
       "    </tr>\n",
       "    <tr>\n",
       "      <th>13</th>\n",
       "      <td>14</td>\n",
       "      <td>a</td>\n",
       "      <td>a</td>\n",
       "      <td>1300.0</td>\n",
       "      <td>3.0</td>\n",
       "      <td>2014.0</td>\n",
       "      <td>1</td>\n",
       "      <td>40.0</td>\n",
       "      <td>2011.0</td>\n",
       "      <td>Jan,Apr,Jul,Oct</td>\n",
       "    </tr>\n",
       "    <tr>\n",
       "      <th>338</th>\n",
       "      <td>339</td>\n",
       "      <td>a</td>\n",
       "      <td>c</td>\n",
       "      <td>2280.0</td>\n",
       "      <td>NaN</td>\n",
       "      <td>NaN</td>\n",
       "      <td>1</td>\n",
       "      <td>10.0</td>\n",
       "      <td>2013.0</td>\n",
       "      <td>Mar,Jun,Sept,Dec</td>\n",
       "    </tr>\n",
       "    <tr>\n",
       "      <th>1044</th>\n",
       "      <td>1045</td>\n",
       "      <td>a</td>\n",
       "      <td>c</td>\n",
       "      <td>26990.0</td>\n",
       "      <td>12.0</td>\n",
       "      <td>2013.0</td>\n",
       "      <td>0</td>\n",
       "      <td>NaN</td>\n",
       "      <td>NaN</td>\n",
       "      <td>NaN</td>\n",
       "    </tr>\n",
       "    <tr>\n",
       "      <th>656</th>\n",
       "      <td>657</td>\n",
       "      <td>c</td>\n",
       "      <td>c</td>\n",
       "      <td>80.0</td>\n",
       "      <td>1.0</td>\n",
       "      <td>2006.0</td>\n",
       "      <td>1</td>\n",
       "      <td>10.0</td>\n",
       "      <td>2014.0</td>\n",
       "      <td>Jan,Apr,Jul,Oct</td>\n",
       "    </tr>\n",
       "  </tbody>\n",
       "</table>\n",
       "</div>"
      ],
      "text/plain": [
       "      Store StoreType Assortment  CompetitionDistance  \\\n",
       "660     661         d          c               2140.0   \n",
       "890     891         a          c                350.0   \n",
       "622     623         a          a               4080.0   \n",
       "184     185         d          c               1860.0   \n",
       "413     414         d          c               6210.0   \n",
       "6         7         a          c              24000.0   \n",
       "13       14         a          a               1300.0   \n",
       "338     339         a          c               2280.0   \n",
       "1044   1045         a          c              26990.0   \n",
       "656     657         c          c                 80.0   \n",
       "\n",
       "      CompetitionOpenSinceMonth  CompetitionOpenSinceYear  Promo2  \\\n",
       "660                         7.0                    2013.0       0   \n",
       "890                         NaN                       NaN       1   \n",
       "622                         3.0                    2011.0       1   \n",
       "184                         5.0                    2015.0       0   \n",
       "413                         NaN                       NaN       1   \n",
       "6                           4.0                    2013.0       0   \n",
       "13                          3.0                    2014.0       1   \n",
       "338                         NaN                       NaN       1   \n",
       "1044                       12.0                    2013.0       0   \n",
       "656                         1.0                    2006.0       1   \n",
       "\n",
       "      Promo2SinceWeek  Promo2SinceYear     PromoInterval  \n",
       "660               NaN              NaN               NaN  \n",
       "890              31.0           2013.0   Feb,May,Aug,Nov  \n",
       "622              13.0           2010.0   Jan,Apr,Jul,Oct  \n",
       "184               NaN              NaN               NaN  \n",
       "413               1.0           2013.0   Jan,Apr,Jul,Oct  \n",
       "6                 NaN              NaN               NaN  \n",
       "13               40.0           2011.0   Jan,Apr,Jul,Oct  \n",
       "338              10.0           2013.0  Mar,Jun,Sept,Dec  \n",
       "1044              NaN              NaN               NaN  \n",
       "656              10.0           2014.0   Jan,Apr,Jul,Oct  "
      ]
     },
     "execution_count": 5,
     "metadata": {},
     "output_type": "execute_result"
    }
   ],
   "source": [
    "df_store.sample(10)"
   ]
  },
  {
   "cell_type": "code",
   "execution_count": 6,
   "metadata": {},
   "outputs": [
    {
     "data": {
      "text/plain": [
       "PromoInterval\n",
       "Jan,Apr,Jul,Oct     335\n",
       "Feb,May,Aug,Nov     130\n",
       "Mar,Jun,Sept,Dec    106\n",
       "Name: count, dtype: int64"
      ]
     },
     "execution_count": 6,
     "metadata": {},
     "output_type": "execute_result"
    }
   ],
   "source": [
    "df_store[\"PromoInterval\"].value_counts()"
   ]
  },
  {
   "cell_type": "code",
   "execution_count": 7,
   "metadata": {},
   "outputs": [
    {
     "data": {
      "text/html": [
       "<div>\n",
       "<style scoped>\n",
       "    .dataframe tbody tr th:only-of-type {\n",
       "        vertical-align: middle;\n",
       "    }\n",
       "\n",
       "    .dataframe tbody tr th {\n",
       "        vertical-align: top;\n",
       "    }\n",
       "\n",
       "    .dataframe thead th {\n",
       "        text-align: right;\n",
       "    }\n",
       "</style>\n",
       "<table border=\"1\" class=\"dataframe\">\n",
       "  <thead>\n",
       "    <tr style=\"text-align: right;\">\n",
       "      <th></th>\n",
       "      <th>Promo2</th>\n",
       "      <th>Promo2SinceWeek</th>\n",
       "      <th>Promo2SinceYear</th>\n",
       "      <th>PromoInterval</th>\n",
       "    </tr>\n",
       "  </thead>\n",
       "  <tbody>\n",
       "    <tr>\n",
       "      <th>0</th>\n",
       "      <td>0</td>\n",
       "      <td>NaN</td>\n",
       "      <td>NaN</td>\n",
       "      <td>NaN</td>\n",
       "    </tr>\n",
       "    <tr>\n",
       "      <th>1</th>\n",
       "      <td>1</td>\n",
       "      <td>13.0</td>\n",
       "      <td>2010.0</td>\n",
       "      <td>Jan,Apr,Jul,Oct</td>\n",
       "    </tr>\n",
       "    <tr>\n",
       "      <th>2</th>\n",
       "      <td>1</td>\n",
       "      <td>14.0</td>\n",
       "      <td>2011.0</td>\n",
       "      <td>Jan,Apr,Jul,Oct</td>\n",
       "    </tr>\n",
       "    <tr>\n",
       "      <th>3</th>\n",
       "      <td>0</td>\n",
       "      <td>NaN</td>\n",
       "      <td>NaN</td>\n",
       "      <td>NaN</td>\n",
       "    </tr>\n",
       "    <tr>\n",
       "      <th>4</th>\n",
       "      <td>0</td>\n",
       "      <td>NaN</td>\n",
       "      <td>NaN</td>\n",
       "      <td>NaN</td>\n",
       "    </tr>\n",
       "    <tr>\n",
       "      <th>...</th>\n",
       "      <td>...</td>\n",
       "      <td>...</td>\n",
       "      <td>...</td>\n",
       "      <td>...</td>\n",
       "    </tr>\n",
       "    <tr>\n",
       "      <th>1110</th>\n",
       "      <td>1</td>\n",
       "      <td>31.0</td>\n",
       "      <td>2013.0</td>\n",
       "      <td>Jan,Apr,Jul,Oct</td>\n",
       "    </tr>\n",
       "    <tr>\n",
       "      <th>1111</th>\n",
       "      <td>0</td>\n",
       "      <td>NaN</td>\n",
       "      <td>NaN</td>\n",
       "      <td>NaN</td>\n",
       "    </tr>\n",
       "    <tr>\n",
       "      <th>1112</th>\n",
       "      <td>0</td>\n",
       "      <td>NaN</td>\n",
       "      <td>NaN</td>\n",
       "      <td>NaN</td>\n",
       "    </tr>\n",
       "    <tr>\n",
       "      <th>1113</th>\n",
       "      <td>0</td>\n",
       "      <td>NaN</td>\n",
       "      <td>NaN</td>\n",
       "      <td>NaN</td>\n",
       "    </tr>\n",
       "    <tr>\n",
       "      <th>1114</th>\n",
       "      <td>1</td>\n",
       "      <td>22.0</td>\n",
       "      <td>2012.0</td>\n",
       "      <td>Mar,Jun,Sept,Dec</td>\n",
       "    </tr>\n",
       "  </tbody>\n",
       "</table>\n",
       "<p>1115 rows × 4 columns</p>\n",
       "</div>"
      ],
      "text/plain": [
       "      Promo2  Promo2SinceWeek  Promo2SinceYear     PromoInterval\n",
       "0          0              NaN              NaN               NaN\n",
       "1          1             13.0           2010.0   Jan,Apr,Jul,Oct\n",
       "2          1             14.0           2011.0   Jan,Apr,Jul,Oct\n",
       "3          0              NaN              NaN               NaN\n",
       "4          0              NaN              NaN               NaN\n",
       "...      ...              ...              ...               ...\n",
       "1110       1             31.0           2013.0   Jan,Apr,Jul,Oct\n",
       "1111       0              NaN              NaN               NaN\n",
       "1112       0              NaN              NaN               NaN\n",
       "1113       0              NaN              NaN               NaN\n",
       "1114       1             22.0           2012.0  Mar,Jun,Sept,Dec\n",
       "\n",
       "[1115 rows x 4 columns]"
      ]
     },
     "execution_count": 7,
     "metadata": {},
     "output_type": "execute_result"
    }
   ],
   "source": [
    "# When a store is not participating of a continuing promotion, \"Promo2SinceWeek\", \"Promo2SinceYear\" and \"PromoInterval\" have NaN\n",
    "df_store[[\"Promo2\", \"Promo2SinceWeek\", \"Promo2SinceYear\", \"PromoInterval\"]]"
   ]
  },
  {
   "cell_type": "code",
   "execution_count": 8,
   "metadata": {},
   "outputs": [
    {
     "data": {
      "text/plain": [
       "Promo2\n",
       "0                                                [nan]\n",
       "1    [13.0, 14.0, 1.0, 45.0, 40.0, 26.0, 22.0, 5.0,...\n",
       "Name: Promo2SinceWeek, dtype: object"
      ]
     },
     "execution_count": 8,
     "metadata": {},
     "output_type": "execute_result"
    }
   ],
   "source": [
    "df_store.groupby(\"Promo2\")[\"Promo2SinceWeek\"].unique()"
   ]
  },
  {
   "cell_type": "code",
   "execution_count": 9,
   "metadata": {},
   "outputs": [
    {
     "data": {
      "text/plain": [
       "Promo2\n",
       "0                                                [nan]\n",
       "1    [2010.0, 2011.0, 2012.0, 2009.0, 2014.0, 2015....\n",
       "Name: Promo2SinceYear, dtype: object"
      ]
     },
     "execution_count": 9,
     "metadata": {},
     "output_type": "execute_result"
    }
   ],
   "source": [
    "df_store.groupby(\"Promo2\")[\"Promo2SinceYear\"].unique()"
   ]
  },
  {
   "cell_type": "code",
   "execution_count": 10,
   "metadata": {},
   "outputs": [
    {
     "data": {
      "text/plain": [
       "Promo2\n",
       "0                                                [nan]\n",
       "1    [Jan,Apr,Jul,Oct, Feb,May,Aug,Nov, Mar,Jun,Sep...\n",
       "Name: PromoInterval, dtype: object"
      ]
     },
     "execution_count": 10,
     "metadata": {},
     "output_type": "execute_result"
    }
   ],
   "source": [
    "df_store.groupby(\"Promo2\")[\"PromoInterval\"].unique()"
   ]
  },
  {
   "cell_type": "markdown",
   "metadata": {},
   "source": [
    "**OBS.:**\n",
    "- StoreType: change to category\n",
    "- Assortment: change to category\n",
    "- CompetitionOpenSinceMonth: change to int and add instance month when is NaN\n",
    "- CompetitionOpenSinceYear: change to int and add instance year when is NaN\n",
    "- Promo2SinceWeek: fill NaN with zero; change to int\n",
    "- Promo2SinceYear: fill NaN with zero; change to int\n",
    "- PromoInterval: fill NaN with zero; there are three intervals, change to a categorical value"
   ]
  },
  {
   "cell_type": "markdown",
   "metadata": {},
   "source": [
    "StoreType"
   ]
  },
  {
   "cell_type": "code",
   "execution_count": 11,
   "metadata": {},
   "outputs": [
    {
     "data": {
      "text/plain": [
       "StoreType\n",
       "a    602\n",
       "d    348\n",
       "c    148\n",
       "b     17\n",
       "Name: count, dtype: int64"
      ]
     },
     "execution_count": 11,
     "metadata": {},
     "output_type": "execute_result"
    }
   ],
   "source": [
    "df_store[\"StoreType\"].value_counts()"
   ]
  },
  {
   "cell_type": "markdown",
   "metadata": {},
   "source": [
    "Assortment"
   ]
  },
  {
   "cell_type": "code",
   "execution_count": 12,
   "metadata": {},
   "outputs": [],
   "source": [
    "assortment_map = {\"a\": \"basic\",\n",
    "                  \"b\": \"extra\",\n",
    "                  \"c\": \"extended\"}"
   ]
  },
  {
   "cell_type": "code",
   "execution_count": 13,
   "metadata": {},
   "outputs": [],
   "source": [
    "df_store[\"Assortment\"] = df_store[\"Assortment\"].map(assortment_map)"
   ]
  },
  {
   "cell_type": "code",
   "execution_count": 14,
   "metadata": {},
   "outputs": [
    {
     "data": {
      "text/plain": [
       "Assortment\n",
       "basic       593\n",
       "extended    513\n",
       "extra         9\n",
       "Name: count, dtype: int64"
      ]
     },
     "execution_count": 14,
     "metadata": {},
     "output_type": "execute_result"
    }
   ],
   "source": [
    "df_store[\"Assortment\"].value_counts()"
   ]
  },
  {
   "cell_type": "code",
   "execution_count": 15,
   "metadata": {},
   "outputs": [
    {
     "data": {
      "text/plain": [
       "np.int64(0)"
      ]
     },
     "execution_count": 15,
     "metadata": {},
     "output_type": "execute_result"
    }
   ],
   "source": [
    "df_store[\"Assortment\"].isna().sum()"
   ]
  },
  {
   "cell_type": "markdown",
   "metadata": {},
   "source": [
    "CompetitionDistance\n",
    "- NaN values could be related to a store with no competitors nearby\n",
    "- Replace NaN with the max distance"
   ]
  },
  {
   "cell_type": "code",
   "execution_count": 16,
   "metadata": {},
   "outputs": [
    {
     "data": {
      "text/html": [
       "<div>\n",
       "<style scoped>\n",
       "    .dataframe tbody tr th:only-of-type {\n",
       "        vertical-align: middle;\n",
       "    }\n",
       "\n",
       "    .dataframe tbody tr th {\n",
       "        vertical-align: top;\n",
       "    }\n",
       "\n",
       "    .dataframe thead th {\n",
       "        text-align: right;\n",
       "    }\n",
       "</style>\n",
       "<table border=\"1\" class=\"dataframe\">\n",
       "  <thead>\n",
       "    <tr style=\"text-align: right;\">\n",
       "      <th></th>\n",
       "      <th>Store</th>\n",
       "      <th>StoreType</th>\n",
       "      <th>Assortment</th>\n",
       "      <th>CompetitionDistance</th>\n",
       "      <th>CompetitionOpenSinceMonth</th>\n",
       "      <th>CompetitionOpenSinceYear</th>\n",
       "      <th>Promo2</th>\n",
       "      <th>Promo2SinceWeek</th>\n",
       "      <th>Promo2SinceYear</th>\n",
       "      <th>PromoInterval</th>\n",
       "    </tr>\n",
       "  </thead>\n",
       "  <tbody>\n",
       "    <tr>\n",
       "      <th>290</th>\n",
       "      <td>291</td>\n",
       "      <td>d</td>\n",
       "      <td>basic</td>\n",
       "      <td>NaN</td>\n",
       "      <td>NaN</td>\n",
       "      <td>NaN</td>\n",
       "      <td>0</td>\n",
       "      <td>NaN</td>\n",
       "      <td>NaN</td>\n",
       "      <td>NaN</td>\n",
       "    </tr>\n",
       "    <tr>\n",
       "      <th>621</th>\n",
       "      <td>622</td>\n",
       "      <td>a</td>\n",
       "      <td>extended</td>\n",
       "      <td>NaN</td>\n",
       "      <td>NaN</td>\n",
       "      <td>NaN</td>\n",
       "      <td>0</td>\n",
       "      <td>NaN</td>\n",
       "      <td>NaN</td>\n",
       "      <td>NaN</td>\n",
       "    </tr>\n",
       "    <tr>\n",
       "      <th>878</th>\n",
       "      <td>879</td>\n",
       "      <td>d</td>\n",
       "      <td>basic</td>\n",
       "      <td>NaN</td>\n",
       "      <td>NaN</td>\n",
       "      <td>NaN</td>\n",
       "      <td>1</td>\n",
       "      <td>5.0</td>\n",
       "      <td>2013.0</td>\n",
       "      <td>Feb,May,Aug,Nov</td>\n",
       "    </tr>\n",
       "  </tbody>\n",
       "</table>\n",
       "</div>"
      ],
      "text/plain": [
       "     Store StoreType Assortment  CompetitionDistance  \\\n",
       "290    291         d      basic                  NaN   \n",
       "621    622         a   extended                  NaN   \n",
       "878    879         d      basic                  NaN   \n",
       "\n",
       "     CompetitionOpenSinceMonth  CompetitionOpenSinceYear  Promo2  \\\n",
       "290                        NaN                       NaN       0   \n",
       "621                        NaN                       NaN       0   \n",
       "878                        NaN                       NaN       1   \n",
       "\n",
       "     Promo2SinceWeek  Promo2SinceYear    PromoInterval  \n",
       "290              NaN              NaN              NaN  \n",
       "621              NaN              NaN              NaN  \n",
       "878              5.0           2013.0  Feb,May,Aug,Nov  "
      ]
     },
     "execution_count": 16,
     "metadata": {},
     "output_type": "execute_result"
    }
   ],
   "source": [
    "df_store[df_store[\"CompetitionDistance\"].isna()]"
   ]
  },
  {
   "cell_type": "code",
   "execution_count": 17,
   "metadata": {},
   "outputs": [
    {
     "data": {
      "text/plain": [
       "count     1112.000000\n",
       "mean      5404.901079\n",
       "std       7663.174720\n",
       "min         20.000000\n",
       "25%        717.500000\n",
       "50%       2325.000000\n",
       "75%       6882.500000\n",
       "max      75860.000000\n",
       "Name: CompetitionDistance, dtype: float64"
      ]
     },
     "execution_count": 17,
     "metadata": {},
     "output_type": "execute_result"
    }
   ],
   "source": [
    "df_store[\"CompetitionDistance\"].describe()"
   ]
  },
  {
   "cell_type": "code",
   "execution_count": 18,
   "metadata": {},
   "outputs": [
    {
     "data": {
      "text/plain": [
       "<Axes: xlabel='CompetitionDistance'>"
      ]
     },
     "execution_count": 18,
     "metadata": {},
     "output_type": "execute_result"
    },
    {
     "data": {
      "image/png": "[encoded data removed]",
      "text/plain": [
       "<Figure size 640x480 with 1 Axes>"
      ]
     },
     "metadata": {},
     "output_type": "display_data"
    }
   ],
   "source": [
    "sns.boxplot(data=df_store, x=df_store[\"CompetitionDistance\"])"
   ]
  },
  {
   "cell_type": "code",
   "execution_count": 19,
   "metadata": {},
   "outputs": [],
   "source": [
    "df_store[\"CompetitionDistance\"] = df_store[\"CompetitionDistance\"].fillna(value=df_store[\"CompetitionDistance\"].max())"
   ]
  },
  {
   "cell_type": "code",
   "execution_count": 20,
   "metadata": {},
   "outputs": [
    {
     "data": {
      "text/plain": [
       "np.int64(0)"
      ]
     },
     "execution_count": 20,
     "metadata": {},
     "output_type": "execute_result"
    }
   ],
   "source": [
    "df_store[\"CompetitionDistance\"].isna().sum()"
   ]
  },
  {
   "cell_type": "markdown",
   "metadata": {},
   "source": [
    "### 2.1.2. Train"
   ]
  },
  {
   "cell_type": "code",
   "execution_count": 21,
   "metadata": {},
   "outputs": [
    {
     "name": "stdout",
     "output_type": "stream",
     "text": [
      "<class 'pandas.core.frame.DataFrame'>\n",
      "RangeIndex: 1017209 entries, 0 to 1017208\n",
      "Data columns (total 9 columns):\n",
      " #   Column         Non-Null Count    Dtype \n",
      "---  ------         --------------    ----- \n",
      " 0   Store          1017209 non-null  int64 \n",
      " 1   DayOfWeek      1017209 non-null  int64 \n",
      " 2   Date           1017209 non-null  object\n",
      " 3   Sales          1017209 non-null  int64 \n",
      " 4   Customers      1017209 non-null  int64 \n",
      " 5   Open           1017209 non-null  int64 \n",
      " 6   Promo          1017209 non-null  int64 \n",
      " 7   StateHoliday   1017209 non-null  object\n",
      " 8   SchoolHoliday  1017209 non-null  int64 \n",
      "dtypes: int64(7), object(2)\n",
      "memory usage: 69.8+ MB\n"
     ]
    }
   ],
   "source": [
    "df_train_raw.info()"
   ]
  },
  {
   "cell_type": "markdown",
   "metadata": {},
   "source": [
    "Date"
   ]
  },
  {
   "cell_type": "code",
   "execution_count": 22,
   "metadata": {},
   "outputs": [],
   "source": [
    "# Convert Date type to datetime\n",
    "df_train_raw[\"Date\"] = pd.to_datetime(df_train_raw[\"Date\"])"
   ]
  },
  {
   "cell_type": "code",
   "execution_count": 23,
   "metadata": {},
   "outputs": [
    {
     "data": {
      "text/html": [
       "<div>\n",
       "<style scoped>\n",
       "    .dataframe tbody tr th:only-of-type {\n",
       "        vertical-align: middle;\n",
       "    }\n",
       "\n",
       "    .dataframe tbody tr th {\n",
       "        vertical-align: top;\n",
       "    }\n",
       "\n",
       "    .dataframe thead th {\n",
       "        text-align: right;\n",
       "    }\n",
       "</style>\n",
       "<table border=\"1\" class=\"dataframe\">\n",
       "  <thead>\n",
       "    <tr style=\"text-align: right;\">\n",
       "      <th></th>\n",
       "      <th>Store</th>\n",
       "      <th>DayOfWeek</th>\n",
       "      <th>Date</th>\n",
       "      <th>Sales</th>\n",
       "      <th>Customers</th>\n",
       "      <th>Open</th>\n",
       "      <th>Promo</th>\n",
       "      <th>StateHoliday</th>\n",
       "      <th>SchoolHoliday</th>\n",
       "    </tr>\n",
       "  </thead>\n",
       "  <tbody>\n",
       "    <tr>\n",
       "      <th>0</th>\n",
       "      <td>1</td>\n",
       "      <td>5</td>\n",
       "      <td>2015-07-31</td>\n",
       "      <td>5263</td>\n",
       "      <td>555</td>\n",
       "      <td>1</td>\n",
       "      <td>1</td>\n",
       "      <td>0</td>\n",
       "      <td>1</td>\n",
       "    </tr>\n",
       "    <tr>\n",
       "      <th>1</th>\n",
       "      <td>2</td>\n",
       "      <td>5</td>\n",
       "      <td>2015-07-31</td>\n",
       "      <td>6064</td>\n",
       "      <td>625</td>\n",
       "      <td>1</td>\n",
       "      <td>1</td>\n",
       "      <td>0</td>\n",
       "      <td>1</td>\n",
       "    </tr>\n",
       "    <tr>\n",
       "      <th>2</th>\n",
       "      <td>3</td>\n",
       "      <td>5</td>\n",
       "      <td>2015-07-31</td>\n",
       "      <td>8314</td>\n",
       "      <td>821</td>\n",
       "      <td>1</td>\n",
       "      <td>1</td>\n",
       "      <td>0</td>\n",
       "      <td>1</td>\n",
       "    </tr>\n",
       "    <tr>\n",
       "      <th>3</th>\n",
       "      <td>4</td>\n",
       "      <td>5</td>\n",
       "      <td>2015-07-31</td>\n",
       "      <td>13995</td>\n",
       "      <td>1498</td>\n",
       "      <td>1</td>\n",
       "      <td>1</td>\n",
       "      <td>0</td>\n",
       "      <td>1</td>\n",
       "    </tr>\n",
       "    <tr>\n",
       "      <th>4</th>\n",
       "      <td>5</td>\n",
       "      <td>5</td>\n",
       "      <td>2015-07-31</td>\n",
       "      <td>4822</td>\n",
       "      <td>559</td>\n",
       "      <td>1</td>\n",
       "      <td>1</td>\n",
       "      <td>0</td>\n",
       "      <td>1</td>\n",
       "    </tr>\n",
       "    <tr>\n",
       "      <th>...</th>\n",
       "      <td>...</td>\n",
       "      <td>...</td>\n",
       "      <td>...</td>\n",
       "      <td>...</td>\n",
       "      <td>...</td>\n",
       "      <td>...</td>\n",
       "      <td>...</td>\n",
       "      <td>...</td>\n",
       "      <td>...</td>\n",
       "    </tr>\n",
       "    <tr>\n",
       "      <th>1017204</th>\n",
       "      <td>1111</td>\n",
       "      <td>2</td>\n",
       "      <td>2013-01-01</td>\n",
       "      <td>0</td>\n",
       "      <td>0</td>\n",
       "      <td>0</td>\n",
       "      <td>0</td>\n",
       "      <td>a</td>\n",
       "      <td>1</td>\n",
       "    </tr>\n",
       "    <tr>\n",
       "      <th>1017205</th>\n",
       "      <td>1112</td>\n",
       "      <td>2</td>\n",
       "      <td>2013-01-01</td>\n",
       "      <td>0</td>\n",
       "      <td>0</td>\n",
       "      <td>0</td>\n",
       "      <td>0</td>\n",
       "      <td>a</td>\n",
       "      <td>1</td>\n",
       "    </tr>\n",
       "    <tr>\n",
       "      <th>1017206</th>\n",
       "      <td>1113</td>\n",
       "      <td>2</td>\n",
       "      <td>2013-01-01</td>\n",
       "      <td>0</td>\n",
       "      <td>0</td>\n",
       "      <td>0</td>\n",
       "      <td>0</td>\n",
       "      <td>a</td>\n",
       "      <td>1</td>\n",
       "    </tr>\n",
       "    <tr>\n",
       "      <th>1017207</th>\n",
       "      <td>1114</td>\n",
       "      <td>2</td>\n",
       "      <td>2013-01-01</td>\n",
       "      <td>0</td>\n",
       "      <td>0</td>\n",
       "      <td>0</td>\n",
       "      <td>0</td>\n",
       "      <td>a</td>\n",
       "      <td>1</td>\n",
       "    </tr>\n",
       "    <tr>\n",
       "      <th>1017208</th>\n",
       "      <td>1115</td>\n",
       "      <td>2</td>\n",
       "      <td>2013-01-01</td>\n",
       "      <td>0</td>\n",
       "      <td>0</td>\n",
       "      <td>0</td>\n",
       "      <td>0</td>\n",
       "      <td>a</td>\n",
       "      <td>1</td>\n",
       "    </tr>\n",
       "  </tbody>\n",
       "</table>\n",
       "<p>1017209 rows × 9 columns</p>\n",
       "</div>"
      ],
      "text/plain": [
       "         Store  DayOfWeek       Date  Sales  Customers  Open  Promo  \\\n",
       "0            1          5 2015-07-31   5263        555     1      1   \n",
       "1            2          5 2015-07-31   6064        625     1      1   \n",
       "2            3          5 2015-07-31   8314        821     1      1   \n",
       "3            4          5 2015-07-31  13995       1498     1      1   \n",
       "4            5          5 2015-07-31   4822        559     1      1   \n",
       "...        ...        ...        ...    ...        ...   ...    ...   \n",
       "1017204   1111          2 2013-01-01      0          0     0      0   \n",
       "1017205   1112          2 2013-01-01      0          0     0      0   \n",
       "1017206   1113          2 2013-01-01      0          0     0      0   \n",
       "1017207   1114          2 2013-01-01      0          0     0      0   \n",
       "1017208   1115          2 2013-01-01      0          0     0      0   \n",
       "\n",
       "        StateHoliday  SchoolHoliday  \n",
       "0                  0              1  \n",
       "1                  0              1  \n",
       "2                  0              1  \n",
       "3                  0              1  \n",
       "4                  0              1  \n",
       "...              ...            ...  \n",
       "1017204            a              1  \n",
       "1017205            a              1  \n",
       "1017206            a              1  \n",
       "1017207            a              1  \n",
       "1017208            a              1  \n",
       "\n",
       "[1017209 rows x 9 columns]"
      ]
     },
     "execution_count": 23,
     "metadata": {},
     "output_type": "execute_result"
    }
   ],
   "source": [
    "df_train_raw"
   ]
  },
  {
   "cell_type": "markdown",
   "metadata": {},
   "source": [
    "StateHoliday"
   ]
  },
  {
   "cell_type": "code",
   "execution_count": 24,
   "metadata": {},
   "outputs": [],
   "source": [
    "holidays = {\"a\": \"public\",\n",
    "            \"b\": \"easter\",\n",
    "            \"c\": \"xmas\",\n",
    "            \"0\": \"none\"}\n",
    "\n",
    "df_train_raw.loc[:, \"StateHoliday\"] = df_train_raw[\"StateHoliday\"].map(holidays)"
   ]
  },
  {
   "cell_type": "code",
   "execution_count": 25,
   "metadata": {},
   "outputs": [
    {
     "data": {
      "text/plain": [
       "StateHoliday\n",
       "none      986159\n",
       "public     20260\n",
       "easter      6690\n",
       "xmas        4100\n",
       "Name: count, dtype: int64"
      ]
     },
     "execution_count": 25,
     "metadata": {},
     "output_type": "execute_result"
    }
   ],
   "source": [
    "df_train_raw[\"StateHoliday\"].value_counts()"
   ]
  },
  {
   "cell_type": "code",
   "execution_count": 26,
   "metadata": {},
   "outputs": [
    {
     "data": {
      "text/plain": [
       "StateHoliday  Open\n",
       "easter        0       0.978326\n",
       "              1       0.021674\n",
       "none          1       0.855320\n",
       "              0       0.144680\n",
       "public        0       0.965745\n",
       "              1       0.034255\n",
       "xmas          0       0.982683\n",
       "              1       0.017317\n",
       "Name: proportion, dtype: float64"
      ]
     },
     "execution_count": 26,
     "metadata": {},
     "output_type": "execute_result"
    }
   ],
   "source": [
    "df_train_raw.groupby(\"StateHoliday\")[\"Open\"].value_counts(normalize=True)"
   ]
  },
  {
   "cell_type": "code",
   "execution_count": 27,
   "metadata": {},
   "outputs": [],
   "source": [
    "# There should be no repeated dates for each store\n",
    "assert df_train_raw.duplicated(subset=[\"Store\", \"Date\"]).sum() == 0"
   ]
  },
  {
   "cell_type": "code",
   "execution_count": 28,
   "metadata": {},
   "outputs": [
    {
     "data": {
      "text/plain": [
       "942    934\n",
       "758    180\n",
       "941      1\n",
       "Name: count, dtype: int64"
      ]
     },
     "execution_count": 28,
     "metadata": {},
     "output_type": "execute_result"
    }
   ],
   "source": [
    "# Number of instances for each store\n",
    "df_train_raw.groupby(\"Store\").size().value_counts()"
   ]
  },
  {
   "cell_type": "code",
   "execution_count": 29,
   "metadata": {},
   "outputs": [
    {
     "name": "stdout",
     "output_type": "stream",
     "text": [
      "Original shape: (1017209, 9)\n",
      "New shape: (844392, 9)\n",
      "Removed lines: 172817\n"
     ]
    }
   ],
   "source": [
    "# Closed store has no sales, so it is not relevant\n",
    "original_shape = df_train_raw.shape\n",
    "df_train_raw = df_train_raw[df_train_raw[\"Open\"] == 1]\n",
    "print(f\"Original shape: {original_shape}\")\n",
    "print(f\"New shape: {df_train_raw.shape}\")\n",
    "print(f\"Removed lines: {original_shape[0] - df_train_raw.shape[0]}\")"
   ]
  },
  {
   "cell_type": "markdown",
   "metadata": {},
   "source": [
    "### 2.1.3. Join train and store dataframes"
   ]
  },
  {
   "cell_type": "code",
   "execution_count": 30,
   "metadata": {},
   "outputs": [
    {
     "data": {
      "text/plain": [
       "(844392, 18)"
      ]
     },
     "execution_count": 30,
     "metadata": {},
     "output_type": "execute_result"
    }
   ],
   "source": [
    "df_raw = pd.merge(df_train_raw, df_store, how=\"left\", on=\"Store\")\n",
    "df_raw.shape"
   ]
  },
  {
   "cell_type": "markdown",
   "metadata": {},
   "source": [
    "## 2.2. Train-test split"
   ]
  },
  {
   "cell_type": "markdown",
   "metadata": {},
   "source": [
    "- It is necessary to set aside the last 6 registered weeks of each store for testing"
   ]
  },
  {
   "cell_type": "code",
   "execution_count": 31,
   "metadata": {},
   "outputs": [],
   "source": [
    "def split_store_data(df, test_size=6*7):\n",
    "    stores = df[\"Store\"].unique()\n",
    "    train_list = []\n",
    "    test_list = []\n",
    "\n",
    "    for store in stores:\n",
    "        store_data = df[df[\"Store\"] == store].sort_values(by=\"Date\")\n",
    "        train, test = train_test_split(store_data, test_size=test_size, shuffle=False)\n",
    "        train_list.append(train)\n",
    "        test_list.append(test)\n",
    "\n",
    "    df_train = pd.concat(train_list)\n",
    "    df_test = pd.concat(test_list)\n",
    "    \n",
    "    return df_train, df_test"
   ]
  },
  {
   "cell_type": "code",
   "execution_count": 32,
   "metadata": {},
   "outputs": [],
   "source": [
    "df_train, df_test = split_store_data(df=df_raw, test_size=6*7)"
   ]
  },
  {
   "cell_type": "code",
   "execution_count": 33,
   "metadata": {},
   "outputs": [
    {
     "data": {
      "text/plain": [
       "((797562, 18), (46830, 18))"
      ]
     },
     "execution_count": 33,
     "metadata": {},
     "output_type": "execute_result"
    }
   ],
   "source": [
    "df_train.shape, df_test.shape"
   ]
  },
  {
   "cell_type": "code",
   "execution_count": 34,
   "metadata": {},
   "outputs": [],
   "source": [
    "# Check data splitting\n",
    "assert df_train.shape[0] + df_test.shape[0] == df_raw.shape[0], \"Problem in data splitting\""
   ]
  },
  {
   "cell_type": "code",
   "execution_count": 35,
   "metadata": {},
   "outputs": [],
   "source": [
    "stores = df_store[\"Store\"].unique()\n",
    "for store in stores:\n",
    "    assert df_train[df_train[\"Store\"] == store][\"Date\"].max() < df_test[df_test[\"Store\"] == store][\"Date\"].min(), \\\n",
    "        \"Minimum test data is earlier than maximum train data\""
   ]
  },
  {
   "cell_type": "markdown",
   "metadata": {},
   "source": [
    "## 2.3. Data analisys"
   ]
  },
  {
   "cell_type": "code",
   "execution_count": 36,
   "metadata": {},
   "outputs": [
    {
     "data": {
      "text/html": [
       "<div>\n",
       "<style scoped>\n",
       "    .dataframe tbody tr th:only-of-type {\n",
       "        vertical-align: middle;\n",
       "    }\n",
       "\n",
       "    .dataframe tbody tr th {\n",
       "        vertical-align: top;\n",
       "    }\n",
       "\n",
       "    .dataframe thead th {\n",
       "        text-align: right;\n",
       "    }\n",
       "</style>\n",
       "<table border=\"1\" class=\"dataframe\">\n",
       "  <thead>\n",
       "    <tr style=\"text-align: right;\">\n",
       "      <th></th>\n",
       "      <th>Store</th>\n",
       "      <th>DayOfWeek</th>\n",
       "      <th>Date</th>\n",
       "      <th>Sales</th>\n",
       "      <th>Customers</th>\n",
       "      <th>Open</th>\n",
       "      <th>Promo</th>\n",
       "      <th>StateHoliday</th>\n",
       "      <th>SchoolHoliday</th>\n",
       "      <th>StoreType</th>\n",
       "      <th>Assortment</th>\n",
       "      <th>CompetitionDistance</th>\n",
       "      <th>CompetitionOpenSinceMonth</th>\n",
       "      <th>CompetitionOpenSinceYear</th>\n",
       "      <th>Promo2</th>\n",
       "      <th>Promo2SinceWeek</th>\n",
       "      <th>Promo2SinceYear</th>\n",
       "      <th>PromoInterval</th>\n",
       "    </tr>\n",
       "  </thead>\n",
       "  <tbody>\n",
       "    <tr>\n",
       "      <th>843264</th>\n",
       "      <td>1</td>\n",
       "      <td>3</td>\n",
       "      <td>2013-01-02</td>\n",
       "      <td>5530</td>\n",
       "      <td>668</td>\n",
       "      <td>1</td>\n",
       "      <td>0</td>\n",
       "      <td>none</td>\n",
       "      <td>1</td>\n",
       "      <td>c</td>\n",
       "      <td>basic</td>\n",
       "      <td>1270.0</td>\n",
       "      <td>9.0</td>\n",
       "      <td>2008.0</td>\n",
       "      <td>0</td>\n",
       "      <td>NaN</td>\n",
       "      <td>NaN</td>\n",
       "      <td>NaN</td>\n",
       "    </tr>\n",
       "    <tr>\n",
       "      <th>842155</th>\n",
       "      <td>1</td>\n",
       "      <td>4</td>\n",
       "      <td>2013-01-03</td>\n",
       "      <td>4327</td>\n",
       "      <td>578</td>\n",
       "      <td>1</td>\n",
       "      <td>0</td>\n",
       "      <td>none</td>\n",
       "      <td>1</td>\n",
       "      <td>c</td>\n",
       "      <td>basic</td>\n",
       "      <td>1270.0</td>\n",
       "      <td>9.0</td>\n",
       "      <td>2008.0</td>\n",
       "      <td>0</td>\n",
       "      <td>NaN</td>\n",
       "      <td>NaN</td>\n",
       "      <td>NaN</td>\n",
       "    </tr>\n",
       "    <tr>\n",
       "      <th>841047</th>\n",
       "      <td>1</td>\n",
       "      <td>5</td>\n",
       "      <td>2013-01-04</td>\n",
       "      <td>4486</td>\n",
       "      <td>619</td>\n",
       "      <td>1</td>\n",
       "      <td>0</td>\n",
       "      <td>none</td>\n",
       "      <td>1</td>\n",
       "      <td>c</td>\n",
       "      <td>basic</td>\n",
       "      <td>1270.0</td>\n",
       "      <td>9.0</td>\n",
       "      <td>2008.0</td>\n",
       "      <td>0</td>\n",
       "      <td>NaN</td>\n",
       "      <td>NaN</td>\n",
       "      <td>NaN</td>\n",
       "    </tr>\n",
       "    <tr>\n",
       "      <th>839940</th>\n",
       "      <td>1</td>\n",
       "      <td>6</td>\n",
       "      <td>2013-01-05</td>\n",
       "      <td>4997</td>\n",
       "      <td>635</td>\n",
       "      <td>1</td>\n",
       "      <td>0</td>\n",
       "      <td>none</td>\n",
       "      <td>1</td>\n",
       "      <td>c</td>\n",
       "      <td>basic</td>\n",
       "      <td>1270.0</td>\n",
       "      <td>9.0</td>\n",
       "      <td>2008.0</td>\n",
       "      <td>0</td>\n",
       "      <td>NaN</td>\n",
       "      <td>NaN</td>\n",
       "      <td>NaN</td>\n",
       "    </tr>\n",
       "    <tr>\n",
       "      <th>838815</th>\n",
       "      <td>1</td>\n",
       "      <td>1</td>\n",
       "      <td>2013-01-07</td>\n",
       "      <td>7176</td>\n",
       "      <td>785</td>\n",
       "      <td>1</td>\n",
       "      <td>1</td>\n",
       "      <td>none</td>\n",
       "      <td>1</td>\n",
       "      <td>c</td>\n",
       "      <td>basic</td>\n",
       "      <td>1270.0</td>\n",
       "      <td>9.0</td>\n",
       "      <td>2008.0</td>\n",
       "      <td>0</td>\n",
       "      <td>NaN</td>\n",
       "      <td>NaN</td>\n",
       "      <td>NaN</td>\n",
       "    </tr>\n",
       "  </tbody>\n",
       "</table>\n",
       "</div>"
      ],
      "text/plain": [
       "        Store  DayOfWeek       Date  Sales  Customers  Open  Promo  \\\n",
       "843264      1          3 2013-01-02   5530        668     1      0   \n",
       "842155      1          4 2013-01-03   4327        578     1      0   \n",
       "841047      1          5 2013-01-04   4486        619     1      0   \n",
       "839940      1          6 2013-01-05   4997        635     1      0   \n",
       "838815      1          1 2013-01-07   7176        785     1      1   \n",
       "\n",
       "       StateHoliday  SchoolHoliday StoreType Assortment  CompetitionDistance  \\\n",
       "843264         none              1         c      basic               1270.0   \n",
       "842155         none              1         c      basic               1270.0   \n",
       "841047         none              1         c      basic               1270.0   \n",
       "839940         none              1         c      basic               1270.0   \n",
       "838815         none              1         c      basic               1270.0   \n",
       "\n",
       "        CompetitionOpenSinceMonth  CompetitionOpenSinceYear  Promo2  \\\n",
       "843264                        9.0                    2008.0       0   \n",
       "842155                        9.0                    2008.0       0   \n",
       "841047                        9.0                    2008.0       0   \n",
       "839940                        9.0                    2008.0       0   \n",
       "838815                        9.0                    2008.0       0   \n",
       "\n",
       "        Promo2SinceWeek  Promo2SinceYear PromoInterval  \n",
       "843264              NaN              NaN           NaN  \n",
       "842155              NaN              NaN           NaN  \n",
       "841047              NaN              NaN           NaN  \n",
       "839940              NaN              NaN           NaN  \n",
       "838815              NaN              NaN           NaN  "
      ]
     },
     "execution_count": 36,
     "metadata": {},
     "output_type": "execute_result"
    }
   ],
   "source": [
    "df_train.head()"
   ]
  },
  {
   "cell_type": "markdown",
   "metadata": {},
   "source": [
    "CompetitionOpenSinceMonth\n",
    "- When there is no month, the month of the column Date will be used\n",
    "- Doing this I am saing the competitor has opened at the some day of the registered sale"
   ]
  },
  {
   "cell_type": "code",
   "execution_count": 37,
   "metadata": {},
   "outputs": [
    {
     "data": {
      "text/plain": [
       "np.int64(253751)"
      ]
     },
     "execution_count": 37,
     "metadata": {},
     "output_type": "execute_result"
    }
   ],
   "source": [
    "df_train[\"CompetitionOpenSinceMonth\"].isna().sum()"
   ]
  },
  {
   "cell_type": "code",
   "execution_count": 38,
   "metadata": {},
   "outputs": [],
   "source": [
    "df_train[\"CompetitionOpenSinceMonth\"] = df_train[\"CompetitionOpenSinceMonth\"].fillna(value=df_train[\"Date\"].dt.month)\n",
    "assert df_train[\"CompetitionOpenSinceMonth\"].isna().sum() == 0"
   ]
  },
  {
   "cell_type": "markdown",
   "metadata": {},
   "source": [
    "CompetitionOpenSinceYear\n",
    "- Same approach from the Month"
   ]
  },
  {
   "cell_type": "code",
   "execution_count": 39,
   "metadata": {},
   "outputs": [
    {
     "data": {
      "text/plain": [
       "np.int64(253751)"
      ]
     },
     "execution_count": 39,
     "metadata": {},
     "output_type": "execute_result"
    }
   ],
   "source": [
    "df_train[\"CompetitionOpenSinceYear\"].isna().sum()"
   ]
  },
  {
   "cell_type": "code",
   "execution_count": 40,
   "metadata": {},
   "outputs": [],
   "source": [
    "df_train[\"CompetitionOpenSinceYear\"] = df_train[\"CompetitionOpenSinceYear\"].fillna(value=df_train[\"Date\"].dt.year)\n",
    "assert df_train[\"CompetitionOpenSinceYear\"].isna().sum() == 0"
   ]
  },
  {
   "cell_type": "markdown",
   "metadata": {},
   "source": [
    "Promo2SinceWeek and Promo2SinceYear\n",
    "- All the missing values occour when Promo2 is zero\n",
    "- Replace with zero, too"
   ]
  },
  {
   "cell_type": "code",
   "execution_count": 41,
   "metadata": {},
   "outputs": [
    {
     "data": {
      "text/plain": [
       "Promo2\n",
       "0                                                [nan]\n",
       "1    [13.0, 14.0, 1.0, 45.0, 40.0, 26.0, 22.0, 5.0,...\n",
       "Name: Promo2SinceWeek, dtype: object"
      ]
     },
     "execution_count": 41,
     "metadata": {},
     "output_type": "execute_result"
    }
   ],
   "source": [
    "df_train.groupby(\"Promo2\")[\"Promo2SinceWeek\"].unique()"
   ]
  },
  {
   "cell_type": "code",
   "execution_count": 42,
   "metadata": {},
   "outputs": [
    {
     "data": {
      "text/plain": [
       "Promo2\n",
       "0                                                [nan]\n",
       "1    [2010.0, 2011.0, 2012.0, 2009.0, 2014.0, 2015....\n",
       "Name: Promo2SinceYear, dtype: object"
      ]
     },
     "execution_count": 42,
     "metadata": {},
     "output_type": "execute_result"
    }
   ],
   "source": [
    "df_train.groupby(\"Promo2\")[\"Promo2SinceYear\"].unique()"
   ]
  },
  {
   "cell_type": "code",
   "execution_count": 43,
   "metadata": {},
   "outputs": [],
   "source": [
    "df_train.loc[:, \"Promo2SinceWeek\"] = df_train[\"Promo2SinceWeek\"].fillna(value=0)\n",
    "df_train.loc[:, \"Promo2SinceYear\"] = df_train[\"Promo2SinceYear\"].fillna(value=0)"
   ]
  },
  {
   "cell_type": "code",
   "execution_count": 44,
   "metadata": {},
   "outputs": [],
   "source": [
    "assert df_train[\"Promo2SinceWeek\"].isna().sum() == 0\n",
    "assert df_train[\"Promo2SinceYear\"].isna().sum() == 0"
   ]
  },
  {
   "cell_type": "markdown",
   "metadata": {},
   "source": [
    "PromoInterval\n",
    "- Replace NaN with zero\n",
    "- Map three intervals corresponding the three groups of month"
   ]
  },
  {
   "cell_type": "code",
   "execution_count": 45,
   "metadata": {},
   "outputs": [
    {
     "data": {
      "text/plain": [
       "Promo2\n",
       "0                                                [nan]\n",
       "1    [Jan,Apr,Jul,Oct, Feb,May,Aug,Nov, Mar,Jun,Sep...\n",
       "Name: PromoInterval, dtype: object"
      ]
     },
     "execution_count": 45,
     "metadata": {},
     "output_type": "execute_result"
    }
   ],
   "source": [
    "df_train.groupby(\"Promo2\")[\"PromoInterval\"].unique()"
   ]
  },
  {
   "cell_type": "code",
   "execution_count": 46,
   "metadata": {},
   "outputs": [
    {
     "data": {
      "text/plain": [
       "array([nan, 'Jan,Apr,Jul,Oct', 'Feb,May,Aug,Nov', 'Mar,Jun,Sept,Dec'],\n",
       "      dtype=object)"
      ]
     },
     "execution_count": 46,
     "metadata": {},
     "output_type": "execute_result"
    }
   ],
   "source": [
    "df_train[\"PromoInterval\"].unique()"
   ]
  },
  {
   "cell_type": "code",
   "execution_count": 47,
   "metadata": {},
   "outputs": [],
   "source": [
    "df_train.loc[:, \"PromoInterval\"] = df_train[\"PromoInterval\"].fillna(value=0)"
   ]
  },
  {
   "cell_type": "code",
   "execution_count": 48,
   "metadata": {},
   "outputs": [],
   "source": [
    "promo_intervals = {0: 0,\n",
    "                   \"Jan,Apr,Jul,Oct\": 1,\n",
    "                   \"Feb,May,Aug,Nov\": 2,\n",
    "                   \"Mar,Jun,Sept,Dec\": 3}\n",
    "\n",
    "df_train.loc[:, \"PromoInterval\"] = df_train[\"PromoInterval\"].map(promo_intervals)"
   ]
  },
  {
   "cell_type": "code",
   "execution_count": 49,
   "metadata": {},
   "outputs": [],
   "source": [
    "assert df_train[\"PromoInterval\"].isna().sum() == 0"
   ]
  },
  {
   "cell_type": "markdown",
   "metadata": {},
   "source": [
    "Changing types"
   ]
  },
  {
   "cell_type": "code",
   "execution_count": 50,
   "metadata": {},
   "outputs": [],
   "source": [
    "# Changing types\n",
    "df_train[\"CompetitionOpenSinceMonth\"] = df_train[\"CompetitionOpenSinceMonth\"].astype(int)\n",
    "df_train[\"CompetitionOpenSinceYear\"] = df_train[\"CompetitionOpenSinceYear\"].astype(int)\n",
    "df_train[\"Promo2SinceWeek\"] = df_train[\"Promo2SinceWeek\"].astype(int)\n",
    "df_train[\"Promo2SinceYear\"] = df_train[\"Promo2SinceYear\"].astype(int)"
   ]
  },
  {
   "cell_type": "code",
   "execution_count": 51,
   "metadata": {},
   "outputs": [
    {
     "name": "stdout",
     "output_type": "stream",
     "text": [
      "<class 'pandas.core.frame.DataFrame'>\n",
      "Index: 797562 entries, 843264 to 66804\n",
      "Data columns (total 18 columns):\n",
      " #   Column                     Non-Null Count   Dtype         \n",
      "---  ------                     --------------   -----         \n",
      " 0   Store                      797562 non-null  int64         \n",
      " 1   DayOfWeek                  797562 non-null  int64         \n",
      " 2   Date                       797562 non-null  datetime64[ns]\n",
      " 3   Sales                      797562 non-null  int64         \n",
      " 4   Customers                  797562 non-null  int64         \n",
      " 5   Open                       797562 non-null  int64         \n",
      " 6   Promo                      797562 non-null  int64         \n",
      " 7   StateHoliday               797562 non-null  object        \n",
      " 8   SchoolHoliday              797562 non-null  int64         \n",
      " 9   StoreType                  797562 non-null  object        \n",
      " 10  Assortment                 797562 non-null  object        \n",
      " 11  CompetitionDistance        797562 non-null  float64       \n",
      " 12  CompetitionOpenSinceMonth  797562 non-null  int64         \n",
      " 13  CompetitionOpenSinceYear   797562 non-null  int64         \n",
      " 14  Promo2                     797562 non-null  int64         \n",
      " 15  Promo2SinceWeek            797562 non-null  int64         \n",
      " 16  Promo2SinceYear            797562 non-null  int64         \n",
      " 17  PromoInterval              797562 non-null  object        \n",
      "dtypes: datetime64[ns](1), float64(1), int64(12), object(4)\n",
      "memory usage: 115.6+ MB\n"
     ]
    }
   ],
   "source": [
    "df_train.info()"
   ]
  },
  {
   "cell_type": "code",
   "execution_count": 52,
   "metadata": {},
   "outputs": [],
   "source": [
    "num_attributes = ['Store', 'DayOfWeek', 'Sales', 'Customers', 'CompetitionDistance', 'CompetitionOpenSinceMonth',\n",
    "                  'CompetitionOpenSinceYear', 'Promo2SinceWeek', 'Promo2SinceYear']"
   ]
  },
  {
   "cell_type": "code",
   "execution_count": 53,
   "metadata": {},
   "outputs": [
    {
     "data": {
      "text/html": [
       "<div>\n",
       "<style scoped>\n",
       "    .dataframe tbody tr th:only-of-type {\n",
       "        vertical-align: middle;\n",
       "    }\n",
       "\n",
       "    .dataframe tbody tr th {\n",
       "        vertical-align: top;\n",
       "    }\n",
       "\n",
       "    .dataframe thead th {\n",
       "        text-align: right;\n",
       "    }\n",
       "</style>\n",
       "<table border=\"1\" class=\"dataframe\">\n",
       "  <thead>\n",
       "    <tr style=\"text-align: right;\">\n",
       "      <th></th>\n",
       "      <th>count</th>\n",
       "      <th>mean</th>\n",
       "      <th>std</th>\n",
       "      <th>min</th>\n",
       "      <th>25%</th>\n",
       "      <th>50%</th>\n",
       "      <th>75%</th>\n",
       "      <th>max</th>\n",
       "    </tr>\n",
       "  </thead>\n",
       "  <tbody>\n",
       "    <tr>\n",
       "      <th>Store</th>\n",
       "      <td>797562.0</td>\n",
       "      <td>558.447752</td>\n",
       "      <td>321.723632</td>\n",
       "      <td>1.0</td>\n",
       "      <td>281.0</td>\n",
       "      <td>558.0</td>\n",
       "      <td>837.0</td>\n",
       "      <td>1115.0</td>\n",
       "    </tr>\n",
       "    <tr>\n",
       "      <th>DayOfWeek</th>\n",
       "      <td>797562.0</td>\n",
       "      <td>3.520708</td>\n",
       "      <td>1.723966</td>\n",
       "      <td>1.0</td>\n",
       "      <td>2.0</td>\n",
       "      <td>3.0</td>\n",
       "      <td>5.0</td>\n",
       "      <td>7.0</td>\n",
       "    </tr>\n",
       "    <tr>\n",
       "      <th>Sales</th>\n",
       "      <td>797562.0</td>\n",
       "      <td>6946.705277</td>\n",
       "      <td>3105.498216</td>\n",
       "      <td>0.0</td>\n",
       "      <td>4849.0</td>\n",
       "      <td>6359.0</td>\n",
       "      <td>8349.0</td>\n",
       "      <td>38722.0</td>\n",
       "    </tr>\n",
       "    <tr>\n",
       "      <th>Customers</th>\n",
       "      <td>797562.0</td>\n",
       "      <td>764.175053</td>\n",
       "      <td>402.429927</td>\n",
       "      <td>0.0</td>\n",
       "      <td>519.0</td>\n",
       "      <td>677.0</td>\n",
       "      <td>895.0</td>\n",
       "      <td>7388.0</td>\n",
       "    </tr>\n",
       "    <tr>\n",
       "      <th>CompetitionDistance</th>\n",
       "      <td>797562.0</td>\n",
       "      <td>5642.927183</td>\n",
       "      <td>8586.786729</td>\n",
       "      <td>20.0</td>\n",
       "      <td>710.0</td>\n",
       "      <td>2330.0</td>\n",
       "      <td>6910.0</td>\n",
       "      <td>75860.0</td>\n",
       "    </tr>\n",
       "    <tr>\n",
       "      <th>CompetitionOpenSinceMonth</th>\n",
       "      <td>797562.0</td>\n",
       "      <td>6.772477</td>\n",
       "      <td>3.342664</td>\n",
       "      <td>1.0</td>\n",
       "      <td>4.0</td>\n",
       "      <td>7.0</td>\n",
       "      <td>10.0</td>\n",
       "      <td>12.0</td>\n",
       "    </tr>\n",
       "    <tr>\n",
       "      <th>CompetitionOpenSinceYear</th>\n",
       "      <td>797562.0</td>\n",
       "      <td>2010.310677</td>\n",
       "      <td>5.477460</td>\n",
       "      <td>1900.0</td>\n",
       "      <td>2008.0</td>\n",
       "      <td>2012.0</td>\n",
       "      <td>2014.0</td>\n",
       "      <td>2015.0</td>\n",
       "    </tr>\n",
       "    <tr>\n",
       "      <th>Promo2SinceWeek</th>\n",
       "      <td>797562.0</td>\n",
       "      <td>11.567506</td>\n",
       "      <td>15.293933</td>\n",
       "      <td>0.0</td>\n",
       "      <td>0.0</td>\n",
       "      <td>0.0</td>\n",
       "      <td>22.0</td>\n",
       "      <td>50.0</td>\n",
       "    </tr>\n",
       "    <tr>\n",
       "      <th>Promo2SinceYear</th>\n",
       "      <td>797562.0</td>\n",
       "      <td>1001.644169</td>\n",
       "      <td>1005.869129</td>\n",
       "      <td>0.0</td>\n",
       "      <td>0.0</td>\n",
       "      <td>0.0</td>\n",
       "      <td>2012.0</td>\n",
       "      <td>2015.0</td>\n",
       "    </tr>\n",
       "  </tbody>\n",
       "</table>\n",
       "</div>"
      ],
      "text/plain": [
       "                              count         mean          std     min     25%  \\\n",
       "Store                      797562.0   558.447752   321.723632     1.0   281.0   \n",
       "DayOfWeek                  797562.0     3.520708     1.723966     1.0     2.0   \n",
       "Sales                      797562.0  6946.705277  3105.498216     0.0  4849.0   \n",
       "Customers                  797562.0   764.175053   402.429927     0.0   519.0   \n",
       "CompetitionDistance        797562.0  5642.927183  8586.786729    20.0   710.0   \n",
       "CompetitionOpenSinceMonth  797562.0     6.772477     3.342664     1.0     4.0   \n",
       "CompetitionOpenSinceYear   797562.0  2010.310677     5.477460  1900.0  2008.0   \n",
       "Promo2SinceWeek            797562.0    11.567506    15.293933     0.0     0.0   \n",
       "Promo2SinceYear            797562.0  1001.644169  1005.869129     0.0     0.0   \n",
       "\n",
       "                              50%     75%      max  \n",
       "Store                       558.0   837.0   1115.0  \n",
       "DayOfWeek                     3.0     5.0      7.0  \n",
       "Sales                      6359.0  8349.0  38722.0  \n",
       "Customers                   677.0   895.0   7388.0  \n",
       "CompetitionDistance        2330.0  6910.0  75860.0  \n",
       "CompetitionOpenSinceMonth     7.0    10.0     12.0  \n",
       "CompetitionOpenSinceYear   2012.0  2014.0   2015.0  \n",
       "Promo2SinceWeek               0.0    22.0     50.0  \n",
       "Promo2SinceYear               0.0  2012.0   2015.0  "
      ]
     },
     "execution_count": 53,
     "metadata": {},
     "output_type": "execute_result"
    }
   ],
   "source": [
    "df_train[num_attributes].describe().T"
   ]
  },
  {
   "cell_type": "code",
   "execution_count": 54,
   "metadata": {},
   "outputs": [],
   "source": [
    "# Replace the year 1900 by the next min year\n",
    "comp_open_since_y = df_train[df_train[\"CompetitionOpenSinceYear\"] != 1900][\"CompetitionOpenSinceYear\"].min()\n",
    "df_train.loc[df_train[\"CompetitionOpenSinceYear\"] == 1900, \"CompetitionOpenSinceYear\"] = comp_open_since_y"
   ]
  },
  {
   "cell_type": "code",
   "execution_count": 55,
   "metadata": {},
   "outputs": [
    {
     "data": {
      "text/html": [
       "<div>\n",
       "<style scoped>\n",
       "    .dataframe tbody tr th:only-of-type {\n",
       "        vertical-align: middle;\n",
       "    }\n",
       "\n",
       "    .dataframe tbody tr th {\n",
       "        vertical-align: top;\n",
       "    }\n",
       "\n",
       "    .dataframe thead th {\n",
       "        text-align: right;\n",
       "    }\n",
       "</style>\n",
       "<table border=\"1\" class=\"dataframe\">\n",
       "  <thead>\n",
       "    <tr style=\"text-align: right;\">\n",
       "      <th></th>\n",
       "      <th>count</th>\n",
       "      <th>mean</th>\n",
       "      <th>std</th>\n",
       "      <th>min</th>\n",
       "      <th>25%</th>\n",
       "      <th>50%</th>\n",
       "      <th>75%</th>\n",
       "      <th>max</th>\n",
       "    </tr>\n",
       "  </thead>\n",
       "  <tbody>\n",
       "    <tr>\n",
       "      <th>Store</th>\n",
       "      <td>797562.0</td>\n",
       "      <td>558.447752</td>\n",
       "      <td>321.723632</td>\n",
       "      <td>1.0</td>\n",
       "      <td>281.0</td>\n",
       "      <td>558.0</td>\n",
       "      <td>837.0</td>\n",
       "      <td>1115.0</td>\n",
       "    </tr>\n",
       "    <tr>\n",
       "      <th>DayOfWeek</th>\n",
       "      <td>797562.0</td>\n",
       "      <td>3.520708</td>\n",
       "      <td>1.723966</td>\n",
       "      <td>1.0</td>\n",
       "      <td>2.0</td>\n",
       "      <td>3.0</td>\n",
       "      <td>5.0</td>\n",
       "      <td>7.0</td>\n",
       "    </tr>\n",
       "    <tr>\n",
       "      <th>Sales</th>\n",
       "      <td>797562.0</td>\n",
       "      <td>6946.705277</td>\n",
       "      <td>3105.498216</td>\n",
       "      <td>0.0</td>\n",
       "      <td>4849.0</td>\n",
       "      <td>6359.0</td>\n",
       "      <td>8349.0</td>\n",
       "      <td>38722.0</td>\n",
       "    </tr>\n",
       "    <tr>\n",
       "      <th>Customers</th>\n",
       "      <td>797562.0</td>\n",
       "      <td>764.175053</td>\n",
       "      <td>402.429927</td>\n",
       "      <td>0.0</td>\n",
       "      <td>519.0</td>\n",
       "      <td>677.0</td>\n",
       "      <td>895.0</td>\n",
       "      <td>7388.0</td>\n",
       "    </tr>\n",
       "    <tr>\n",
       "      <th>CompetitionDistance</th>\n",
       "      <td>797562.0</td>\n",
       "      <td>5642.927183</td>\n",
       "      <td>8586.786729</td>\n",
       "      <td>20.0</td>\n",
       "      <td>710.0</td>\n",
       "      <td>2330.0</td>\n",
       "      <td>6910.0</td>\n",
       "      <td>75860.0</td>\n",
       "    </tr>\n",
       "    <tr>\n",
       "      <th>CompetitionOpenSinceMonth</th>\n",
       "      <td>797562.0</td>\n",
       "      <td>6.772477</td>\n",
       "      <td>3.342664</td>\n",
       "      <td>1.0</td>\n",
       "      <td>4.0</td>\n",
       "      <td>7.0</td>\n",
       "      <td>10.0</td>\n",
       "      <td>12.0</td>\n",
       "    </tr>\n",
       "    <tr>\n",
       "      <th>CompetitionOpenSinceYear</th>\n",
       "      <td>797562.0</td>\n",
       "      <td>2010.355037</td>\n",
       "      <td>4.787459</td>\n",
       "      <td>1961.0</td>\n",
       "      <td>2008.0</td>\n",
       "      <td>2012.0</td>\n",
       "      <td>2014.0</td>\n",
       "      <td>2015.0</td>\n",
       "    </tr>\n",
       "    <tr>\n",
       "      <th>Promo2SinceWeek</th>\n",
       "      <td>797562.0</td>\n",
       "      <td>11.567506</td>\n",
       "      <td>15.293933</td>\n",
       "      <td>0.0</td>\n",
       "      <td>0.0</td>\n",
       "      <td>0.0</td>\n",
       "      <td>22.0</td>\n",
       "      <td>50.0</td>\n",
       "    </tr>\n",
       "    <tr>\n",
       "      <th>Promo2SinceYear</th>\n",
       "      <td>797562.0</td>\n",
       "      <td>1001.644169</td>\n",
       "      <td>1005.869129</td>\n",
       "      <td>0.0</td>\n",
       "      <td>0.0</td>\n",
       "      <td>0.0</td>\n",
       "      <td>2012.0</td>\n",
       "      <td>2015.0</td>\n",
       "    </tr>\n",
       "  </tbody>\n",
       "</table>\n",
       "</div>"
      ],
      "text/plain": [
       "                              count         mean          std     min     25%  \\\n",
       "Store                      797562.0   558.447752   321.723632     1.0   281.0   \n",
       "DayOfWeek                  797562.0     3.520708     1.723966     1.0     2.0   \n",
       "Sales                      797562.0  6946.705277  3105.498216     0.0  4849.0   \n",
       "Customers                  797562.0   764.175053   402.429927     0.0   519.0   \n",
       "CompetitionDistance        797562.0  5642.927183  8586.786729    20.0   710.0   \n",
       "CompetitionOpenSinceMonth  797562.0     6.772477     3.342664     1.0     4.0   \n",
       "CompetitionOpenSinceYear   797562.0  2010.355037     4.787459  1961.0  2008.0   \n",
       "Promo2SinceWeek            797562.0    11.567506    15.293933     0.0     0.0   \n",
       "Promo2SinceYear            797562.0  1001.644169  1005.869129     0.0     0.0   \n",
       "\n",
       "                              50%     75%      max  \n",
       "Store                       558.0   837.0   1115.0  \n",
       "DayOfWeek                     3.0     5.0      7.0  \n",
       "Sales                      6359.0  8349.0  38722.0  \n",
       "Customers                   677.0   895.0   7388.0  \n",
       "CompetitionDistance        2330.0  6910.0  75860.0  \n",
       "CompetitionOpenSinceMonth     7.0    10.0     12.0  \n",
       "CompetitionOpenSinceYear   2012.0  2014.0   2015.0  \n",
       "Promo2SinceWeek               0.0    22.0     50.0  \n",
       "Promo2SinceYear               0.0  2012.0   2015.0  "
      ]
     },
     "execution_count": 55,
     "metadata": {},
     "output_type": "execute_result"
    }
   ],
   "source": [
    "df_train[num_attributes].describe().T"
   ]
  },
  {
   "cell_type": "markdown",
   "metadata": {},
   "source": [
    "Sales"
   ]
  },
  {
   "cell_type": "code",
   "execution_count": 56,
   "metadata": {},
   "outputs": [
    {
     "data": {
      "text/plain": [
       "<Axes: xlabel='Sales', ylabel='Count'>"
      ]
     },
     "execution_count": 56,
     "metadata": {},
     "output_type": "execute_result"
    },
    {
     "data": {
      "image/png": "[encoded data removed]",
      "text/plain": [
       "<Figure size 640x480 with 1 Axes>"
      ]
     },
     "metadata": {},
     "output_type": "display_data"
    }
   ],
   "source": [
    "sns.histplot(data=df_train, x=\"Sales\", bins=30)"
   ]
  },
  {
   "cell_type": "markdown",
   "metadata": {},
   "source": [
    "Ex: Store 1 year Sales"
   ]
  },
  {
   "cell_type": "code",
   "execution_count": 82,
   "metadata": {},
   "outputs": [
    {
     "data": {
      "text/plain": [
       "Text(0.5, 1.0, 'Store 1 daily sales')"
      ]
     },
     "execution_count": 82,
     "metadata": {},
     "output_type": "execute_result"
    },
    {
     "data": {
      "image/png": "[encoded data removed]",
      "text/plain": [
       "<Figure size 1200x500 with 1 Axes>"
      ]
     },
     "metadata": {},
     "output_type": "display_data"
    }
   ],
   "source": [
    "store_n = 1\n",
    "df_train_store = df_train[df_train[\"Store\"] == store_n][[\"Date\", \"Sales\"]]\n",
    "df_test_store = df_test[df_test[\"Store\"] == store_n][[\"Date\", \"Sales\"]]\n",
    "fig, ax = plt.subplots(figsize=(12,5))\n",
    "sns.lineplot(data=df_train_store, x=\"Date\", y=\"Sales\", label=\"Train set\")\n",
    "sns.lineplot(data=df_test_store, x=\"Date\", y=\"Sales\", label=\"Test set\")\n",
    "plt.title(f\"Store {store_n} daily sales\")"
   ]
  },
  {
   "cell_type": "code",
   "execution_count": null,
   "metadata": {},
   "outputs": [],
   "source": [
    "df_train_store[\"WeekOfYear\"] = df_train_store[\"Date\"].dt.isocalendar().week\n",
    "df_test_store[\"WeekOfYear\"] = df_test_store[\"Date\"].dt.isocalendar().week"
   ]
  },
  {
   "cell_type": "code",
   "execution_count": 135,
   "metadata": {},
   "outputs": [
    {
     "data": {
      "text/plain": [
       "Text(0.5, 1.1, 'Sales by week')"
      ]
     },
     "execution_count": 135,
     "metadata": {},
     "output_type": "execute_result"
    },
    {
     "data": {
      "image/png": "[encoded data removed]",
      "text/plain": [
       "<Figure size 800x600 with 3 Axes>"
      ]
     },
     "metadata": {},
     "output_type": "display_data"
    }
   ],
   "source": [
    "fig = sns.FacetGrid(data=df_train_store.groupby([df_train_store[\"Date\"].dt.year, \"WeekOfYear\"])[[\"Sales\"]].sum().reset_index(),\\\n",
    "                    col=\"Date\", sharex=True, height=2, aspect=4, col_wrap=1)\n",
    "fig.map(sns.lineplot, \"WeekOfYear\", \"Sales\")\n",
    "fig.set(yticks=[10000, 20000, 30000, 40000])\n",
    "fig.figure.suptitle(\"Sales by week\", y=1.1)"
   ]
  },
  {
   "cell_type": "markdown",
   "metadata": {},
   "source": [
    "**Hypothesis:**"
   ]
  },
  {
   "cell_type": "markdown",
   "metadata": {},
   "source": [
    "**1.** Stores with extended assortment should sell more. **FALSE**"
   ]
  },
  {
   "cell_type": "code",
   "execution_count": 136,
   "metadata": {},
   "outputs": [
    {
     "data": {
      "text/plain": [
       "<Axes: xlabel='Assortment', ylabel='Sales'>"
      ]
     },
     "execution_count": 136,
     "metadata": {},
     "output_type": "execute_result"
    },
    {
     "data": {
      "image/png": "[encoded data removed]",
      "text/plain": [
       "<Figure size 640x480 with 1 Axes>"
      ]
     },
     "metadata": {},
     "output_type": "display_data"
    }
   ],
   "source": [
    "sns.barplot(df_train.groupby(\"Assortment\")[\"Sales\"].sum())"
   ]
  },
  {
   "cell_type": "markdown",
   "metadata": {},
   "source": [
    "**2.** Stores with closer competitors should sell less. **FALSE**"
   ]
  },
  {
   "cell_type": "code",
   "execution_count": 137,
   "metadata": {},
   "outputs": [
    {
     "data": {
      "text/html": [
       "<div>\n",
       "<style scoped>\n",
       "    .dataframe tbody tr th:only-of-type {\n",
       "        vertical-align: middle;\n",
       "    }\n",
       "\n",
       "    .dataframe tbody tr th {\n",
       "        vertical-align: top;\n",
       "    }\n",
       "\n",
       "    .dataframe thead th {\n",
       "        text-align: right;\n",
       "    }\n",
       "</style>\n",
       "<table border=\"1\" class=\"dataframe\">\n",
       "  <thead>\n",
       "    <tr style=\"text-align: right;\">\n",
       "      <th></th>\n",
       "      <th>CompetitionDistance</th>\n",
       "      <th>Assortment</th>\n",
       "      <th>Sales</th>\n",
       "    </tr>\n",
       "  </thead>\n",
       "  <tbody>\n",
       "    <tr>\n",
       "      <th>0</th>\n",
       "      <td>20.0</td>\n",
       "      <td>extended</td>\n",
       "      <td>4326285</td>\n",
       "    </tr>\n",
       "    <tr>\n",
       "      <th>1</th>\n",
       "      <td>30.0</td>\n",
       "      <td>basic</td>\n",
       "      <td>12647304</td>\n",
       "    </tr>\n",
       "    <tr>\n",
       "      <th>2</th>\n",
       "      <td>30.0</td>\n",
       "      <td>extended</td>\n",
       "      <td>3938476</td>\n",
       "    </tr>\n",
       "    <tr>\n",
       "      <th>3</th>\n",
       "      <td>40.0</td>\n",
       "      <td>basic</td>\n",
       "      <td>27817434</td>\n",
       "    </tr>\n",
       "    <tr>\n",
       "      <th>4</th>\n",
       "      <td>50.0</td>\n",
       "      <td>basic</td>\n",
       "      <td>19903989</td>\n",
       "    </tr>\n",
       "    <tr>\n",
       "      <th>...</th>\n",
       "      <td>...</td>\n",
       "      <td>...</td>\n",
       "      <td>...</td>\n",
       "    </tr>\n",
       "    <tr>\n",
       "      <th>790</th>\n",
       "      <td>46590.0</td>\n",
       "      <td>extended</td>\n",
       "      <td>3355231</td>\n",
       "    </tr>\n",
       "    <tr>\n",
       "      <th>791</th>\n",
       "      <td>48330.0</td>\n",
       "      <td>basic</td>\n",
       "      <td>3564184</td>\n",
       "    </tr>\n",
       "    <tr>\n",
       "      <th>792</th>\n",
       "      <td>58260.0</td>\n",
       "      <td>extended</td>\n",
       "      <td>5378112</td>\n",
       "    </tr>\n",
       "    <tr>\n",
       "      <th>793</th>\n",
       "      <td>75860.0</td>\n",
       "      <td>basic</td>\n",
       "      <td>8090346</td>\n",
       "    </tr>\n",
       "    <tr>\n",
       "      <th>794</th>\n",
       "      <td>75860.0</td>\n",
       "      <td>extended</td>\n",
       "      <td>9657463</td>\n",
       "    </tr>\n",
       "  </tbody>\n",
       "</table>\n",
       "<p>795 rows × 3 columns</p>\n",
       "</div>"
      ],
      "text/plain": [
       "     CompetitionDistance Assortment     Sales\n",
       "0                   20.0   extended   4326285\n",
       "1                   30.0      basic  12647304\n",
       "2                   30.0   extended   3938476\n",
       "3                   40.0      basic  27817434\n",
       "4                   50.0      basic  19903989\n",
       "..                   ...        ...       ...\n",
       "790              46590.0   extended   3355231\n",
       "791              48330.0      basic   3564184\n",
       "792              58260.0   extended   5378112\n",
       "793              75860.0      basic   8090346\n",
       "794              75860.0   extended   9657463\n",
       "\n",
       "[795 rows x 3 columns]"
      ]
     },
     "execution_count": 137,
     "metadata": {},
     "output_type": "execute_result"
    }
   ],
   "source": [
    "hyp2 = df_train[[\"CompetitionDistance\", \"Assortment\", \"Sales\"]]\\\n",
    "    .groupby([\"CompetitionDistance\", \"Assortment\"])[\"Sales\"].sum().reset_index()\n",
    "hyp2"
   ]
  },
  {
   "cell_type": "code",
   "execution_count": 138,
   "metadata": {},
   "outputs": [
    {
     "data": {
      "text/plain": [
       "<Axes: xlabel='CompetitionDistance', ylabel='Sales'>"
      ]
     },
     "execution_count": 138,
     "metadata": {},
     "output_type": "execute_result"
    },
    {
     "data": {
      "image/png": "[encoded data removed]",
      "text/plain": [
       "<Figure size 640x480 with 1 Axes>"
      ]
     },
     "metadata": {},
     "output_type": "display_data"
    }
   ],
   "source": [
    "sns.scatterplot(data=hyp2, x=\"CompetitionDistance\", y=\"Sales\", hue=\"Assortment\")"
   ]
  },
  {
   "cell_type": "markdown",
   "metadata": {},
   "source": [
    "**3.** Stores with long-standing competitors should sell more. **FALSE**"
   ]
  },
  {
   "cell_type": "code",
   "execution_count": 139,
   "metadata": {},
   "outputs": [],
   "source": [
    "max_year_sales = df_train.groupby([\"Store\"])[\"Date\"].max().dt.year.reset_index()\n",
    "max_year_sales.rename(columns={\"Date\": \"CurrentYear\"}, inplace=True)"
   ]
  },
  {
   "cell_type": "code",
   "execution_count": 140,
   "metadata": {},
   "outputs": [],
   "source": [
    "hyp3 = df_train[[\"Store\", \"CompetitionOpenSinceYear\", \"Sales\"]]\\\n",
    "    .groupby([\"Store\", \"CompetitionOpenSinceYear\"])[\"Sales\"].sum().reset_index()"
   ]
  },
  {
   "cell_type": "code",
   "execution_count": 141,
   "metadata": {},
   "outputs": [],
   "source": [
    "hyp3 = pd.merge(hyp3, max_year_sales, on=\"Store\", how=\"left\")\n",
    "hyp3[\"CompetitionOpenedWeeks\"] = (hyp3[\"CurrentYear\"] - hyp3[\"CompetitionOpenSinceYear\"]) * 52"
   ]
  },
  {
   "cell_type": "code",
   "execution_count": 142,
   "metadata": {},
   "outputs": [
    {
     "data": {
      "text/html": [
       "<div>\n",
       "<style scoped>\n",
       "    .dataframe tbody tr th:only-of-type {\n",
       "        vertical-align: middle;\n",
       "    }\n",
       "\n",
       "    .dataframe tbody tr th {\n",
       "        vertical-align: top;\n",
       "    }\n",
       "\n",
       "    .dataframe thead th {\n",
       "        text-align: right;\n",
       "    }\n",
       "</style>\n",
       "<table border=\"1\" class=\"dataframe\">\n",
       "  <thead>\n",
       "    <tr style=\"text-align: right;\">\n",
       "      <th></th>\n",
       "      <th>Store</th>\n",
       "      <th>CompetitionOpenSinceYear</th>\n",
       "      <th>Sales</th>\n",
       "      <th>CurrentYear</th>\n",
       "      <th>CompetitionOpenedWeeks</th>\n",
       "    </tr>\n",
       "  </thead>\n",
       "  <tbody>\n",
       "    <tr>\n",
       "      <th>0</th>\n",
       "      <td>1</td>\n",
       "      <td>2008</td>\n",
       "      <td>3531263</td>\n",
       "      <td>2015</td>\n",
       "      <td>364</td>\n",
       "    </tr>\n",
       "    <tr>\n",
       "      <th>1</th>\n",
       "      <td>2</td>\n",
       "      <td>2007</td>\n",
       "      <td>3671921</td>\n",
       "      <td>2015</td>\n",
       "      <td>416</td>\n",
       "    </tr>\n",
       "    <tr>\n",
       "      <th>2</th>\n",
       "      <td>3</td>\n",
       "      <td>2006</td>\n",
       "      <td>5112725</td>\n",
       "      <td>2015</td>\n",
       "      <td>468</td>\n",
       "    </tr>\n",
       "    <tr>\n",
       "      <th>3</th>\n",
       "      <td>4</td>\n",
       "      <td>2009</td>\n",
       "      <td>7135716</td>\n",
       "      <td>2015</td>\n",
       "      <td>312</td>\n",
       "    </tr>\n",
       "    <tr>\n",
       "      <th>4</th>\n",
       "      <td>5</td>\n",
       "      <td>2015</td>\n",
       "      <td>3449039</td>\n",
       "      <td>2015</td>\n",
       "      <td>0</td>\n",
       "    </tr>\n",
       "    <tr>\n",
       "      <th>...</th>\n",
       "      <td>...</td>\n",
       "      <td>...</td>\n",
       "      <td>...</td>\n",
       "      <td>...</td>\n",
       "      <td>...</td>\n",
       "    </tr>\n",
       "    <tr>\n",
       "      <th>1818</th>\n",
       "      <td>1114</td>\n",
       "      <td>2014</td>\n",
       "      <td>6227969</td>\n",
       "      <td>2015</td>\n",
       "      <td>52</td>\n",
       "    </tr>\n",
       "    <tr>\n",
       "      <th>1819</th>\n",
       "      <td>1114</td>\n",
       "      <td>2015</td>\n",
       "      <td>2852298</td>\n",
       "      <td>2015</td>\n",
       "      <td>0</td>\n",
       "    </tr>\n",
       "    <tr>\n",
       "      <th>1820</th>\n",
       "      <td>1115</td>\n",
       "      <td>2013</td>\n",
       "      <td>1694723</td>\n",
       "      <td>2015</td>\n",
       "      <td>104</td>\n",
       "    </tr>\n",
       "    <tr>\n",
       "      <th>1821</th>\n",
       "      <td>1115</td>\n",
       "      <td>2014</td>\n",
       "      <td>1985458</td>\n",
       "      <td>2015</td>\n",
       "      <td>52</td>\n",
       "    </tr>\n",
       "    <tr>\n",
       "      <th>1822</th>\n",
       "      <td>1115</td>\n",
       "      <td>2015</td>\n",
       "      <td>941407</td>\n",
       "      <td>2015</td>\n",
       "      <td>0</td>\n",
       "    </tr>\n",
       "  </tbody>\n",
       "</table>\n",
       "<p>1823 rows × 5 columns</p>\n",
       "</div>"
      ],
      "text/plain": [
       "      Store  CompetitionOpenSinceYear    Sales  CurrentYear  \\\n",
       "0         1                      2008  3531263         2015   \n",
       "1         2                      2007  3671921         2015   \n",
       "2         3                      2006  5112725         2015   \n",
       "3         4                      2009  7135716         2015   \n",
       "4         5                      2015  3449039         2015   \n",
       "...     ...                       ...      ...          ...   \n",
       "1818   1114                      2014  6227969         2015   \n",
       "1819   1114                      2015  2852298         2015   \n",
       "1820   1115                      2013  1694723         2015   \n",
       "1821   1115                      2014  1985458         2015   \n",
       "1822   1115                      2015   941407         2015   \n",
       "\n",
       "      CompetitionOpenedWeeks  \n",
       "0                        364  \n",
       "1                        416  \n",
       "2                        468  \n",
       "3                        312  \n",
       "4                          0  \n",
       "...                      ...  \n",
       "1818                      52  \n",
       "1819                       0  \n",
       "1820                     104  \n",
       "1821                      52  \n",
       "1822                       0  \n",
       "\n",
       "[1823 rows x 5 columns]"
      ]
     },
     "execution_count": 142,
     "metadata": {},
     "output_type": "execute_result"
    }
   ],
   "source": [
    "hyp3"
   ]
  },
  {
   "cell_type": "code",
   "execution_count": 143,
   "metadata": {},
   "outputs": [
    {
     "data": {
      "image/png": "[encoded data removed]",
      "text/plain": [
       "<Figure size 1200x500 with 1 Axes>"
      ]
     },
     "metadata": {},
     "output_type": "display_data"
    }
   ],
   "source": [
    "fig, ax = plt.subplots(figsize=(12,5))\n",
    "sns.barplot(hyp3.groupby(\"CompetitionOpenedWeeks\")[\"Sales\"].sum(), ax=ax)\n",
    "#sns.barplot(data=hyp3, x=\"CompetitionOpenedWeeks\", y=\"Sales\", ax=ax, errorbar=\"sd\")\n",
    "plt.title(\"Total store sales based on time since the nearest competitor opened\")\n",
    "plt.ylabel(\"Total Sales\")\n",
    "plt.xticks(rotation=45);"
   ]
  },
  {
   "cell_type": "markdown",
   "metadata": {},
   "source": [
    "**4.** Stores opened in Christmas holiday shoul sell more. **FALSE**"
   ]
  },
  {
   "cell_type": "code",
   "execution_count": 144,
   "metadata": {},
   "outputs": [
    {
     "data": {
      "text/plain": [
       "StateHoliday\n",
       "easter       1433744\n",
       "none      5532412299\n",
       "public       5890305\n",
       "xmas          691806\n",
       "Name: Sales, dtype: int64"
      ]
     },
     "execution_count": 144,
     "metadata": {},
     "output_type": "execute_result"
    }
   ],
   "source": [
    "df_train.groupby(\"StateHoliday\")[\"Sales\"].sum()"
   ]
  },
  {
   "cell_type": "code",
   "execution_count": 145,
   "metadata": {},
   "outputs": [],
   "source": [
    "hyp4a = df_train.query(\"StateHoliday != 'none'\").groupby(\"StateHoliday\")[\"Sales\"].sum().reset_index().sort_values(by=\"Sales\")"
   ]
  },
  {
   "cell_type": "code",
   "execution_count": 146,
   "metadata": {},
   "outputs": [],
   "source": [
    "hyp4b = df_train[[\"Date\", \"StateHoliday\", \"Sales\"]].groupby([df_train[\"Date\"].dt.year, \"StateHoliday\"])[\"Sales\"].sum().reset_index()\n",
    "hyp4b = hyp4b[hyp4b[\"StateHoliday\"] != \"none\"]"
   ]
  },
  {
   "cell_type": "code",
   "execution_count": 147,
   "metadata": {},
   "outputs": [
    {
     "data": {
      "text/plain": [
       "<Axes: xlabel='Date', ylabel='Sales'>"
      ]
     },
     "execution_count": 147,
     "metadata": {},
     "output_type": "execute_result"
    },
    {
     "data": {
      "image/png": "[encoded data removed]",
      "text/plain": [
       "<Figure size 1600x500 with 2 Axes>"
      ]
     },
     "metadata": {},
     "output_type": "display_data"
    }
   ],
   "source": [
    "fig, ax = plt.subplots(nrows=1, ncols=2, figsize=(16,5))\n",
    "sns.barplot(data=hyp4a, x=\"StateHoliday\", y=\"Sales\", ax=ax[0])\n",
    "sns.barplot(data=hyp4b, x=\"Date\", y=\"Sales\", hue=\"StateHoliday\", ax=ax[1])"
   ]
  },
  {
   "cell_type": "markdown",
   "metadata": {},
   "source": [
    "**5.** Stores should sell more over the years. **IN TERMS OF ABSOLUTE VALUES IS FALSE**"
   ]
  },
  {
   "cell_type": "code",
   "execution_count": 148,
   "metadata": {},
   "outputs": [],
   "source": [
    "#fig, ax = plt.subplots(nrows=1, ncols=2, figsize=(16 ,5))\n",
    "#sns.barplot(df_train.groupby(df_train[\"Date\"].dt.year)[\"Sales\"].mean(), ax=ax[0])\n",
    "#sns.barplot(df_train.groupby(df_train[\"Date\"].dt.year)[\"Sales\"].sum(), ax=ax[1])\n",
    "#ax[0].set_title(\"Average sales over the years\")\n",
    "#ax[1].set_title(\"Total sales over the years\")\n",
    "#ax[0].set_xlabel(\"Year\")\n",
    "#ax[1].set_xlabel(\"Year\")\n",
    "#ax[0].set_ylabel(\"Average Sales\")\n",
    "#ax[1].set_ylabel(\"Total Sales\")"
   ]
  },
  {
   "cell_type": "code",
   "execution_count": 149,
   "metadata": {},
   "outputs": [
    {
     "name": "stderr",
     "output_type": "stream",
     "text": [
      "/tmp/ipykernel_42919/1853038938.py:2: SettingWithCopyWarning: \n",
      "A value is trying to be set on a copy of a slice from a DataFrame.\n",
      "Try using .loc[row_indexer,col_indexer] = value instead\n",
      "\n",
      "See the caveats in the documentation: https://pandas.pydata.org/pandas-docs/stable/user_guide/indexing.html#returning-a-view-versus-a-copy\n",
      "  hyp5[\"Year\"] = hyp5[\"Date\"].dt.year\n",
      "/tmp/ipykernel_42919/1853038938.py:3: SettingWithCopyWarning: \n",
      "A value is trying to be set on a copy of a slice from a DataFrame\n",
      "\n",
      "See the caveats in the documentation: https://pandas.pydata.org/pandas-docs/stable/user_guide/indexing.html#returning-a-view-versus-a-copy\n",
      "  hyp5.drop(columns=\"Date\", inplace=True)\n"
     ]
    },
    {
     "data": {
      "text/html": [
       "<div>\n",
       "<style scoped>\n",
       "    .dataframe tbody tr th:only-of-type {\n",
       "        vertical-align: middle;\n",
       "    }\n",
       "\n",
       "    .dataframe tbody tr th {\n",
       "        vertical-align: top;\n",
       "    }\n",
       "\n",
       "    .dataframe thead th {\n",
       "        text-align: right;\n",
       "    }\n",
       "</style>\n",
       "<table border=\"1\" class=\"dataframe\">\n",
       "  <thead>\n",
       "    <tr style=\"text-align: right;\">\n",
       "      <th></th>\n",
       "      <th>Sales</th>\n",
       "      <th>Year</th>\n",
       "    </tr>\n",
       "  </thead>\n",
       "  <tbody>\n",
       "    <tr>\n",
       "      <th>843264</th>\n",
       "      <td>5530</td>\n",
       "      <td>2013</td>\n",
       "    </tr>\n",
       "    <tr>\n",
       "      <th>842155</th>\n",
       "      <td>4327</td>\n",
       "      <td>2013</td>\n",
       "    </tr>\n",
       "    <tr>\n",
       "      <th>841047</th>\n",
       "      <td>4486</td>\n",
       "      <td>2013</td>\n",
       "    </tr>\n",
       "    <tr>\n",
       "      <th>839940</th>\n",
       "      <td>4997</td>\n",
       "      <td>2013</td>\n",
       "    </tr>\n",
       "    <tr>\n",
       "      <th>838815</th>\n",
       "      <td>7176</td>\n",
       "      <td>2013</td>\n",
       "    </tr>\n",
       "    <tr>\n",
       "      <th>...</th>\n",
       "      <td>...</td>\n",
       "      <td>...</td>\n",
       "    </tr>\n",
       "    <tr>\n",
       "      <th>71296</th>\n",
       "      <td>3170</td>\n",
       "      <td>2015</td>\n",
       "    </tr>\n",
       "    <tr>\n",
       "      <th>70149</th>\n",
       "      <td>8270</td>\n",
       "      <td>2015</td>\n",
       "    </tr>\n",
       "    <tr>\n",
       "      <th>69034</th>\n",
       "      <td>7115</td>\n",
       "      <td>2015</td>\n",
       "    </tr>\n",
       "    <tr>\n",
       "      <th>67919</th>\n",
       "      <td>6745</td>\n",
       "      <td>2015</td>\n",
       "    </tr>\n",
       "    <tr>\n",
       "      <th>66804</th>\n",
       "      <td>6557</td>\n",
       "      <td>2015</td>\n",
       "    </tr>\n",
       "  </tbody>\n",
       "</table>\n",
       "<p>797562 rows × 2 columns</p>\n",
       "</div>"
      ],
      "text/plain": [
       "        Sales  Year\n",
       "843264   5530  2013\n",
       "842155   4327  2013\n",
       "841047   4486  2013\n",
       "839940   4997  2013\n",
       "838815   7176  2013\n",
       "...       ...   ...\n",
       "71296    3170  2015\n",
       "70149    8270  2015\n",
       "69034    7115  2015\n",
       "67919    6745  2015\n",
       "66804    6557  2015\n",
       "\n",
       "[797562 rows x 2 columns]"
      ]
     },
     "execution_count": 149,
     "metadata": {},
     "output_type": "execute_result"
    }
   ],
   "source": [
    "hyp5 = df_train[[\"Date\", \"Sales\"]]\n",
    "hyp5[\"Year\"] = hyp5[\"Date\"].dt.year\n",
    "hyp5.drop(columns=\"Date\", inplace=True)\n",
    "hyp5"
   ]
  },
  {
   "cell_type": "code",
   "execution_count": 150,
   "metadata": {},
   "outputs": [
    {
     "data": {
      "text/plain": [
       "Text(0, 0.5, 'Total Sales')"
      ]
     },
     "execution_count": 150,
     "metadata": {},
     "output_type": "execute_result"
    },
    {
     "data": {
      "image/png": "[encoded data removed]",
      "text/plain": [
       "<Figure size 1600x500 with 2 Axes>"
      ]
     },
     "metadata": {},
     "output_type": "display_data"
    }
   ],
   "source": [
    "fig, ax = plt.subplots(nrows=1, ncols=2, figsize=(16 ,5))\n",
    "sns.barplot(data=hyp5, x=\"Year\", y=\"Sales\", estimator=\"mean\", errorbar=\"sd\", ax=ax[0])\n",
    "sns.barplot(data=hyp5, x=\"Year\", y=\"Sales\", estimator=\"sum\", errorbar=\"sd\", ax=ax[1])\n",
    "ax[0].set_title(\"Average sales over the years\")\n",
    "ax[1].set_title(\"Total sales over the years\")\n",
    "ax[0].set_xlabel(\"Year\")\n",
    "ax[1].set_xlabel(\"Year\")\n",
    "ax[0].set_ylabel(\"Average Sales\")\n",
    "ax[1].set_ylabel(\"Total Sales\")"
   ]
  },
  {
   "cell_type": "markdown",
   "metadata": {},
   "source": [
    "**6.** Stores should sell more in the second half of the year. **FALSE**"
   ]
  },
  {
   "cell_type": "code",
   "execution_count": 151,
   "metadata": {},
   "outputs": [],
   "source": [
    "hyp6a = df_train.groupby([df_train[\"Date\"].dt.year, df_train[\"Date\"].dt.month])[[\"Sales\"]].sum()\n",
    "hyp6a.index.names = [\"Year\", \"Month\"]\n",
    "hyp6a = hyp6a.reset_index()"
   ]
  },
  {
   "cell_type": "code",
   "execution_count": 152,
   "metadata": {},
   "outputs": [
    {
     "name": "stderr",
     "output_type": "stream",
     "text": [
      "/home/ezequielpf/.pyenv/versions/venv_rossmann/lib/python3.10/site-packages/seaborn/axisgrid.py:718: UserWarning: Using the barplot function without specifying `order` is likely to produce an incorrect plot.\n",
      "  warnings.warn(warning)\n"
     ]
    },
    {
     "data": {
      "text/plain": [
       "<seaborn.axisgrid.FacetGrid at 0x76ac96c27b50>"
      ]
     },
     "execution_count": 152,
     "metadata": {},
     "output_type": "execute_result"
    },
    {
     "data": {
      "image/png": "[encoded data removed]",
      "text/plain": [
       "<Figure size 1500x500 with 3 Axes>"
      ]
     },
     "metadata": {},
     "output_type": "display_data"
    }
   ],
   "source": [
    "fig = sns.FacetGrid(data=hyp6a, col=\"Year\", sharey=True, height=5)\n",
    "fig.map(sns.barplot, \"Month\", \"Sales\")"
   ]
  },
  {
   "cell_type": "code",
   "execution_count": 153,
   "metadata": {},
   "outputs": [],
   "source": [
    "hyp6a[\"Sem\"] = hyp6a[\"Month\"].apply(lambda x: 1 if x <= 6 else 2)"
   ]
  },
  {
   "cell_type": "code",
   "execution_count": 154,
   "metadata": {},
   "outputs": [
    {
     "data": {
      "text/plain": [
       "<Axes: xlabel='Sem', ylabel='Sales'>"
      ]
     },
     "execution_count": 154,
     "metadata": {},
     "output_type": "execute_result"
    },
    {
     "data": {
      "image/png": "[encoded data removed]",
      "text/plain": [
       "<Figure size 640x480 with 1 Axes>"
      ]
     },
     "metadata": {},
     "output_type": "display_data"
    }
   ],
   "source": [
    "sns.barplot(data=hyp6a.groupby([\"Year\", \"Sem\"])[\"Sales\"].sum().reset_index(), x=\"Sem\", y=\"Sales\", hue=\"Year\")"
   ]
  },
  {
   "cell_type": "markdown",
   "metadata": {},
   "source": [
    "**7.** Stores should sell less on weekends. **FALSE**"
   ]
  },
  {
   "cell_type": "code",
   "execution_count": 155,
   "metadata": {},
   "outputs": [],
   "source": [
    "#fig, ax = plt.subplots(nrows=1, ncols=2, figsize=(16,5))\n",
    "#sns.barplot(data=df_train.groupby(\"DayOfWeek\")[\"Sales\"].mean().reset_index(), x=\"DayOfWeek\", y=\"Sales\", ax=ax[0])\n",
    "#sns.barplot(data=df_train.groupby(\"DayOfWeek\")[\"Sales\"].sum().reset_index(), x=\"DayOfWeek\", y=\"Sales\", ax=ax[1])\n",
    "#ax[0].set_title(\"Daily average sales\")\n",
    "#ax[1].set_title(\"Daily total sales\")\n",
    "#ax[0].set_xlabel(\"Year\")\n",
    "#ax[1].set_xlabel(\"Year\")\n",
    "#ax[0].set_ylabel(\"Average Sales\")\n",
    "#ax[1].set_ylabel(\"Total Sales\")\n",
    "##ax[0].set_xticks([1,2,3,4,5,6,7])\n",
    "#ax[0].set_xticklabels([\"Sun\", \"Mon\", \"Tue\", \"Wed\", \"Thu\", \"Fri\", \"Sat\"])\n",
    "##ax[1].set_xticks([1,2,3,4,5,6,7])\n",
    "#ax[1].set_xticklabels([\"Sun\", \"Mon\", \"Tue\", \"Wed\", \"Thu\", \"Fri\", \"Sat\"]);"
   ]
  },
  {
   "cell_type": "code",
   "execution_count": 156,
   "metadata": {},
   "outputs": [
    {
     "data": {
      "image/png": "[encoded data removed]",
      "text/plain": [
       "<Figure size 640x480 with 1 Axes>"
      ]
     },
     "metadata": {},
     "output_type": "display_data"
    }
   ],
   "source": [
    "sns.barplot(data=df_train.groupby(\"DayOfWeek\")[\"Sales\"].mean().reset_index(), x=\"DayOfWeek\", y=\"Sales\")\n",
    "plt.title(\"Daily total sales\")\n",
    "plt.xlabel(\"Day\")\n",
    "plt.ylabel(\"Total Sales\")\n",
    "plt.xticks(ticks=[0,1,2,3,4,5,6], labels=[\"Sun\", \"Mon\", \"Tue\", \"Wed\", \"Thu\", \"Fri\", \"Sat\"]);"
   ]
  },
  {
   "cell_type": "markdown",
   "metadata": {},
   "source": [
    "**8.** Stores should sell less during school holidays. **TRUE FOR TOTAL SALES**"
   ]
  },
  {
   "cell_type": "code",
   "execution_count": 157,
   "metadata": {},
   "outputs": [
    {
     "data": {
      "image/png": "[encoded data removed]",
      "text/plain": [
       "<Figure size 640x480 with 1 Axes>"
      ]
     },
     "metadata": {},
     "output_type": "display_data"
    }
   ],
   "source": [
    "sns.barplot(data=df_train.groupby(\"SchoolHoliday\")[\"Sales\"].sum().reset_index(), x=\"SchoolHoliday\", y=\"Sales\")\n",
    "plt.title(\"Daily total sales\")\n",
    "plt.xlabel(\"School holiday\")\n",
    "plt.ylabel(\"Total Sales\");"
   ]
  },
  {
   "cell_type": "markdown",
   "metadata": {},
   "source": [
    "# 3. Data preparation"
   ]
  },
  {
   "cell_type": "markdown",
   "metadata": {},
   "source": [
    "## 3.1. Changing data types"
   ]
  },
  {
   "cell_type": "code",
   "execution_count": 158,
   "metadata": {},
   "outputs": [],
   "source": [
    "df_train[\"PromoInterval\"] = df_train[\"PromoInterval\"].astype(dtype=\"category\")"
   ]
  },
  {
   "cell_type": "code",
   "execution_count": 159,
   "metadata": {},
   "outputs": [],
   "source": [
    "df_train[\"Promo\"] = df_train[\"Promo\"].astype(dtype=\"category\")"
   ]
  },
  {
   "cell_type": "code",
   "execution_count": 160,
   "metadata": {},
   "outputs": [],
   "source": [
    "df_train[\"SchoolHoliday\"] = df_train[\"SchoolHoliday\"].astype(\"category\")"
   ]
  },
  {
   "cell_type": "code",
   "execution_count": 161,
   "metadata": {},
   "outputs": [],
   "source": [
    "df_train[\"Promo2\"] = df_train[\"Promo2\"].astype(\"category\")"
   ]
  },
  {
   "cell_type": "markdown",
   "metadata": {},
   "source": [
    "## 3.2. Feature creation"
   ]
  },
  {
   "cell_type": "code",
   "execution_count": 165,
   "metadata": {},
   "outputs": [],
   "source": [
    "def FeatureCreation(df):\n",
    "    df[\"DayOfYear\"] = df[\"Date\"].dt.day_of_year\n",
    "    df[\"Year\"] = df[\"Date\"].dt.year\n",
    "    df[\"QuarterOfYear\"] = df[\"Date\"].dt.quarter\n",
    "    df[\"Month\"] = df[\"Date\"].dt.month\n",
    "    df[\"WeekOfYear\"] = df[\"Date\"].dt.isocalendar().week\n",
    "    return df"
   ]
  },
  {
   "cell_type": "code",
   "execution_count": 166,
   "metadata": {},
   "outputs": [],
   "source": [
    "df_train = FeatureCreation(df_train)"
   ]
  },
  {
   "cell_type": "markdown",
   "metadata": {},
   "source": [
    "## 3.3. Encoding"
   ]
  },
  {
   "cell_type": "markdown",
   "metadata": {},
   "source": [
    "### StateHoliday"
   ]
  },
  {
   "cell_type": "code",
   "execution_count": 168,
   "metadata": {},
   "outputs": [],
   "source": [
    "ohe_stt_hld = OneHotEncoder(sparse_output=False, dtype=\"int\").set_output(transform=\"pandas\")\n",
    "stt_hld = ohe_stt_hld.fit_transform(df_train[[\"StateHoliday\"]])\n",
    "df_train = pd.concat(objs=[df_train, stt_hld], axis=\"columns\").drop(columns=\"StateHoliday\")"
   ]
  },
  {
   "cell_type": "markdown",
   "metadata": {},
   "source": [
    "### StoreType"
   ]
  },
  {
   "cell_type": "code",
   "execution_count": 169,
   "metadata": {},
   "outputs": [],
   "source": [
    "ohe_sto_typ = OneHotEncoder(sparse_output=False, dtype=\"int\").set_output(transform=\"pandas\")\n",
    "sto_typ = ohe_sto_typ.fit_transform(df_train[[\"StoreType\"]])\n",
    "df_train = pd.concat(objs=[df_train, sto_typ], axis=\"columns\").drop(columns=\"StoreType\")"
   ]
  },
  {
   "cell_type": "markdown",
   "metadata": {},
   "source": [
    "### Assortment"
   ]
  },
  {
   "cell_type": "code",
   "execution_count": 170,
   "metadata": {},
   "outputs": [],
   "source": [
    "ohe_assort = OneHotEncoder(sparse_output=False, dtype=\"int\").set_output(transform=\"pandas\")\n",
    "assort = ohe_assort.fit_transform(df_train[[\"Assortment\"]])\n",
    "df_train = pd.concat(objs=[df_train, assort], axis=\"columns\").drop(columns=\"Assortment\")"
   ]
  },
  {
   "cell_type": "markdown",
   "metadata": {},
   "source": [
    "## 3.4. Scaling"
   ]
  },
  {
   "cell_type": "markdown",
   "metadata": {},
   "source": [
    "**Skip for now**"
   ]
  },
  {
   "cell_type": "markdown",
   "metadata": {},
   "source": [
    "# 4. Machine learning model"
   ]
  },
  {
   "cell_type": "code",
   "execution_count": 171,
   "metadata": {},
   "outputs": [
    {
     "data": {
      "text/html": [
       "<div>\n",
       "<style scoped>\n",
       "    .dataframe tbody tr th:only-of-type {\n",
       "        vertical-align: middle;\n",
       "    }\n",
       "\n",
       "    .dataframe tbody tr th {\n",
       "        vertical-align: top;\n",
       "    }\n",
       "\n",
       "    .dataframe thead th {\n",
       "        text-align: right;\n",
       "    }\n",
       "</style>\n",
       "<table border=\"1\" class=\"dataframe\">\n",
       "  <thead>\n",
       "    <tr style=\"text-align: right;\">\n",
       "      <th></th>\n",
       "      <th>Store</th>\n",
       "      <th>DayOfWeek</th>\n",
       "      <th>Date</th>\n",
       "      <th>Sales</th>\n",
       "      <th>Customers</th>\n",
       "      <th>Open</th>\n",
       "      <th>Promo</th>\n",
       "      <th>SchoolHoliday</th>\n",
       "      <th>CompetitionDistance</th>\n",
       "      <th>CompetitionOpenSinceMonth</th>\n",
       "      <th>...</th>\n",
       "      <th>StateHoliday_none</th>\n",
       "      <th>StateHoliday_public</th>\n",
       "      <th>StateHoliday_xmas</th>\n",
       "      <th>StoreType_a</th>\n",
       "      <th>StoreType_b</th>\n",
       "      <th>StoreType_c</th>\n",
       "      <th>StoreType_d</th>\n",
       "      <th>Assortment_basic</th>\n",
       "      <th>Assortment_extended</th>\n",
       "      <th>Assortment_extra</th>\n",
       "    </tr>\n",
       "  </thead>\n",
       "  <tbody>\n",
       "    <tr>\n",
       "      <th>843264</th>\n",
       "      <td>1</td>\n",
       "      <td>3</td>\n",
       "      <td>2013-01-02</td>\n",
       "      <td>5530</td>\n",
       "      <td>668</td>\n",
       "      <td>1</td>\n",
       "      <td>0</td>\n",
       "      <td>1</td>\n",
       "      <td>1270.0</td>\n",
       "      <td>9</td>\n",
       "      <td>...</td>\n",
       "      <td>1</td>\n",
       "      <td>0</td>\n",
       "      <td>0</td>\n",
       "      <td>0</td>\n",
       "      <td>0</td>\n",
       "      <td>1</td>\n",
       "      <td>0</td>\n",
       "      <td>1</td>\n",
       "      <td>0</td>\n",
       "      <td>0</td>\n",
       "    </tr>\n",
       "    <tr>\n",
       "      <th>842155</th>\n",
       "      <td>1</td>\n",
       "      <td>4</td>\n",
       "      <td>2013-01-03</td>\n",
       "      <td>4327</td>\n",
       "      <td>578</td>\n",
       "      <td>1</td>\n",
       "      <td>0</td>\n",
       "      <td>1</td>\n",
       "      <td>1270.0</td>\n",
       "      <td>9</td>\n",
       "      <td>...</td>\n",
       "      <td>1</td>\n",
       "      <td>0</td>\n",
       "      <td>0</td>\n",
       "      <td>0</td>\n",
       "      <td>0</td>\n",
       "      <td>1</td>\n",
       "      <td>0</td>\n",
       "      <td>1</td>\n",
       "      <td>0</td>\n",
       "      <td>0</td>\n",
       "    </tr>\n",
       "    <tr>\n",
       "      <th>841047</th>\n",
       "      <td>1</td>\n",
       "      <td>5</td>\n",
       "      <td>2013-01-04</td>\n",
       "      <td>4486</td>\n",
       "      <td>619</td>\n",
       "      <td>1</td>\n",
       "      <td>0</td>\n",
       "      <td>1</td>\n",
       "      <td>1270.0</td>\n",
       "      <td>9</td>\n",
       "      <td>...</td>\n",
       "      <td>1</td>\n",
       "      <td>0</td>\n",
       "      <td>0</td>\n",
       "      <td>0</td>\n",
       "      <td>0</td>\n",
       "      <td>1</td>\n",
       "      <td>0</td>\n",
       "      <td>1</td>\n",
       "      <td>0</td>\n",
       "      <td>0</td>\n",
       "    </tr>\n",
       "    <tr>\n",
       "      <th>839940</th>\n",
       "      <td>1</td>\n",
       "      <td>6</td>\n",
       "      <td>2013-01-05</td>\n",
       "      <td>4997</td>\n",
       "      <td>635</td>\n",
       "      <td>1</td>\n",
       "      <td>0</td>\n",
       "      <td>1</td>\n",
       "      <td>1270.0</td>\n",
       "      <td>9</td>\n",
       "      <td>...</td>\n",
       "      <td>1</td>\n",
       "      <td>0</td>\n",
       "      <td>0</td>\n",
       "      <td>0</td>\n",
       "      <td>0</td>\n",
       "      <td>1</td>\n",
       "      <td>0</td>\n",
       "      <td>1</td>\n",
       "      <td>0</td>\n",
       "      <td>0</td>\n",
       "    </tr>\n",
       "    <tr>\n",
       "      <th>838815</th>\n",
       "      <td>1</td>\n",
       "      <td>1</td>\n",
       "      <td>2013-01-07</td>\n",
       "      <td>7176</td>\n",
       "      <td>785</td>\n",
       "      <td>1</td>\n",
       "      <td>1</td>\n",
       "      <td>1</td>\n",
       "      <td>1270.0</td>\n",
       "      <td>9</td>\n",
       "      <td>...</td>\n",
       "      <td>1</td>\n",
       "      <td>0</td>\n",
       "      <td>0</td>\n",
       "      <td>0</td>\n",
       "      <td>0</td>\n",
       "      <td>1</td>\n",
       "      <td>0</td>\n",
       "      <td>1</td>\n",
       "      <td>0</td>\n",
       "      <td>0</td>\n",
       "    </tr>\n",
       "    <tr>\n",
       "      <th>...</th>\n",
       "      <td>...</td>\n",
       "      <td>...</td>\n",
       "      <td>...</td>\n",
       "      <td>...</td>\n",
       "      <td>...</td>\n",
       "      <td>...</td>\n",
       "      <td>...</td>\n",
       "      <td>...</td>\n",
       "      <td>...</td>\n",
       "      <td>...</td>\n",
       "      <td>...</td>\n",
       "      <td>...</td>\n",
       "      <td>...</td>\n",
       "      <td>...</td>\n",
       "      <td>...</td>\n",
       "      <td>...</td>\n",
       "      <td>...</td>\n",
       "      <td>...</td>\n",
       "      <td>...</td>\n",
       "      <td>...</td>\n",
       "      <td>...</td>\n",
       "    </tr>\n",
       "    <tr>\n",
       "      <th>71296</th>\n",
       "      <td>292</td>\n",
       "      <td>6</td>\n",
       "      <td>2015-05-16</td>\n",
       "      <td>3170</td>\n",
       "      <td>393</td>\n",
       "      <td>1</td>\n",
       "      <td>0</td>\n",
       "      <td>0</td>\n",
       "      <td>1100.0</td>\n",
       "      <td>6</td>\n",
       "      <td>...</td>\n",
       "      <td>1</td>\n",
       "      <td>0</td>\n",
       "      <td>0</td>\n",
       "      <td>1</td>\n",
       "      <td>0</td>\n",
       "      <td>0</td>\n",
       "      <td>0</td>\n",
       "      <td>1</td>\n",
       "      <td>0</td>\n",
       "      <td>0</td>\n",
       "    </tr>\n",
       "    <tr>\n",
       "      <th>70149</th>\n",
       "      <td>292</td>\n",
       "      <td>1</td>\n",
       "      <td>2015-05-18</td>\n",
       "      <td>8270</td>\n",
       "      <td>938</td>\n",
       "      <td>1</td>\n",
       "      <td>1</td>\n",
       "      <td>0</td>\n",
       "      <td>1100.0</td>\n",
       "      <td>6</td>\n",
       "      <td>...</td>\n",
       "      <td>1</td>\n",
       "      <td>0</td>\n",
       "      <td>0</td>\n",
       "      <td>1</td>\n",
       "      <td>0</td>\n",
       "      <td>0</td>\n",
       "      <td>0</td>\n",
       "      <td>1</td>\n",
       "      <td>0</td>\n",
       "      <td>0</td>\n",
       "    </tr>\n",
       "    <tr>\n",
       "      <th>69034</th>\n",
       "      <td>292</td>\n",
       "      <td>2</td>\n",
       "      <td>2015-05-19</td>\n",
       "      <td>7115</td>\n",
       "      <td>834</td>\n",
       "      <td>1</td>\n",
       "      <td>1</td>\n",
       "      <td>0</td>\n",
       "      <td>1100.0</td>\n",
       "      <td>6</td>\n",
       "      <td>...</td>\n",
       "      <td>1</td>\n",
       "      <td>0</td>\n",
       "      <td>0</td>\n",
       "      <td>1</td>\n",
       "      <td>0</td>\n",
       "      <td>0</td>\n",
       "      <td>0</td>\n",
       "      <td>1</td>\n",
       "      <td>0</td>\n",
       "      <td>0</td>\n",
       "    </tr>\n",
       "    <tr>\n",
       "      <th>67919</th>\n",
       "      <td>292</td>\n",
       "      <td>3</td>\n",
       "      <td>2015-05-20</td>\n",
       "      <td>6745</td>\n",
       "      <td>803</td>\n",
       "      <td>1</td>\n",
       "      <td>1</td>\n",
       "      <td>0</td>\n",
       "      <td>1100.0</td>\n",
       "      <td>6</td>\n",
       "      <td>...</td>\n",
       "      <td>1</td>\n",
       "      <td>0</td>\n",
       "      <td>0</td>\n",
       "      <td>1</td>\n",
       "      <td>0</td>\n",
       "      <td>0</td>\n",
       "      <td>0</td>\n",
       "      <td>1</td>\n",
       "      <td>0</td>\n",
       "      <td>0</td>\n",
       "    </tr>\n",
       "    <tr>\n",
       "      <th>66804</th>\n",
       "      <td>292</td>\n",
       "      <td>4</td>\n",
       "      <td>2015-05-21</td>\n",
       "      <td>6557</td>\n",
       "      <td>839</td>\n",
       "      <td>1</td>\n",
       "      <td>1</td>\n",
       "      <td>0</td>\n",
       "      <td>1100.0</td>\n",
       "      <td>6</td>\n",
       "      <td>...</td>\n",
       "      <td>1</td>\n",
       "      <td>0</td>\n",
       "      <td>0</td>\n",
       "      <td>1</td>\n",
       "      <td>0</td>\n",
       "      <td>0</td>\n",
       "      <td>0</td>\n",
       "      <td>1</td>\n",
       "      <td>0</td>\n",
       "      <td>0</td>\n",
       "    </tr>\n",
       "  </tbody>\n",
       "</table>\n",
       "<p>797562 rows × 31 columns</p>\n",
       "</div>"
      ],
      "text/plain": [
       "        Store  DayOfWeek       Date  Sales  Customers  Open Promo  \\\n",
       "843264      1          3 2013-01-02   5530        668     1     0   \n",
       "842155      1          4 2013-01-03   4327        578     1     0   \n",
       "841047      1          5 2013-01-04   4486        619     1     0   \n",
       "839940      1          6 2013-01-05   4997        635     1     0   \n",
       "838815      1          1 2013-01-07   7176        785     1     1   \n",
       "...       ...        ...        ...    ...        ...   ...   ...   \n",
       "71296     292          6 2015-05-16   3170        393     1     0   \n",
       "70149     292          1 2015-05-18   8270        938     1     1   \n",
       "69034     292          2 2015-05-19   7115        834     1     1   \n",
       "67919     292          3 2015-05-20   6745        803     1     1   \n",
       "66804     292          4 2015-05-21   6557        839     1     1   \n",
       "\n",
       "       SchoolHoliday  CompetitionDistance  CompetitionOpenSinceMonth  ...  \\\n",
       "843264             1               1270.0                          9  ...   \n",
       "842155             1               1270.0                          9  ...   \n",
       "841047             1               1270.0                          9  ...   \n",
       "839940             1               1270.0                          9  ...   \n",
       "838815             1               1270.0                          9  ...   \n",
       "...              ...                  ...                        ...  ...   \n",
       "71296              0               1100.0                          6  ...   \n",
       "70149              0               1100.0                          6  ...   \n",
       "69034              0               1100.0                          6  ...   \n",
       "67919              0               1100.0                          6  ...   \n",
       "66804              0               1100.0                          6  ...   \n",
       "\n",
       "        StateHoliday_none StateHoliday_public  StateHoliday_xmas  StoreType_a  \\\n",
       "843264                  1                   0                  0            0   \n",
       "842155                  1                   0                  0            0   \n",
       "841047                  1                   0                  0            0   \n",
       "839940                  1                   0                  0            0   \n",
       "838815                  1                   0                  0            0   \n",
       "...                   ...                 ...                ...          ...   \n",
       "71296                   1                   0                  0            1   \n",
       "70149                   1                   0                  0            1   \n",
       "69034                   1                   0                  0            1   \n",
       "67919                   1                   0                  0            1   \n",
       "66804                   1                   0                  0            1   \n",
       "\n",
       "       StoreType_b  StoreType_c  StoreType_d  Assortment_basic  \\\n",
       "843264           0            1            0                 1   \n",
       "842155           0            1            0                 1   \n",
       "841047           0            1            0                 1   \n",
       "839940           0            1            0                 1   \n",
       "838815           0            1            0                 1   \n",
       "...            ...          ...          ...               ...   \n",
       "71296            0            0            0                 1   \n",
       "70149            0            0            0                 1   \n",
       "69034            0            0            0                 1   \n",
       "67919            0            0            0                 1   \n",
       "66804            0            0            0                 1   \n",
       "\n",
       "        Assortment_extended  Assortment_extra  \n",
       "843264                    0                 0  \n",
       "842155                    0                 0  \n",
       "841047                    0                 0  \n",
       "839940                    0                 0  \n",
       "838815                    0                 0  \n",
       "...                     ...               ...  \n",
       "71296                     0                 0  \n",
       "70149                     0                 0  \n",
       "69034                     0                 0  \n",
       "67919                     0                 0  \n",
       "66804                     0                 0  \n",
       "\n",
       "[797562 rows x 31 columns]"
      ]
     },
     "execution_count": 171,
     "metadata": {},
     "output_type": "execute_result"
    }
   ],
   "source": [
    "df_train"
   ]
  },
  {
   "cell_type": "markdown",
   "metadata": {},
   "source": []
  }
 ],
 "metadata": {
  "kernelspec": {
   "display_name": "venv_rossmann",
   "language": "python",
   "name": "python3"
  },
  "language_info": {
   "codemirror_mode": {
    "name": "ipython",
    "version": 3
   },
   "file_extension": ".py",
   "mimetype": "text/x-python",
   "name": "python",
   "nbconvert_exporter": "python",
   "pygments_lexer": "ipython3",
   "version": "3.10.12"
  }
 },
 "nbformat": 4,
 "nbformat_minor": 2
}
