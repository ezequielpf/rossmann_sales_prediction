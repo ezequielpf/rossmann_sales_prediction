{
 "cells": [
  {
   "cell_type": "markdown",
   "metadata": {},
   "source": [
    "# 0. The problem"
   ]
  },
  {
   "cell_type": "markdown",
   "metadata": {
    "vscode": {
     "languageId": "plaintext"
    }
   },
   "source": [
    "Source: https://www.kaggle.com/competitions/rossmann-store-sales/overview"
   ]
  },
  {
   "cell_type": "markdown",
   "metadata": {},
   "source": [
    "## Context"
   ]
  },
  {
   "cell_type": "markdown",
   "metadata": {},
   "source": [
    "Rossmann operates over 3,000 drug stores in 7 European countries. Currently, Rossmann store managers are tasked with predicting their daily sales for up to six weeks in advance. Store sales are influenced by many factors, including promotions, competition, school and state holidays, seasonality, and locality. With thousands of individual managers predicting sales based on their unique circumstances, the accuracy of results can be quite varied."
   ]
  },
  {
   "cell_type": "markdown",
   "metadata": {},
   "source": [
    "## Solution"
   ]
  },
  {
   "cell_type": "markdown",
   "metadata": {},
   "source": [
    "Predict 6 weeks of daily sales for 1115 stores located across Germany. Reliable sales forecasts enable store managers to create effective staff schedules that increase productivity and motivation. By helping Rossmann create a robust prediction model, you will help store managers stay focused on what’s most important to them: their customers and their teams! "
   ]
  },
  {
   "cell_type": "markdown",
   "metadata": {},
   "source": [
    "# 1. Data description"
   ]
  },
  {
   "cell_type": "markdown",
   "metadata": {},
   "source": [
    "**Files**\n",
    "- train.csv - historical data including Sales\n",
    "- test.csv - historical data excluding Sales\n",
    "- store.csv - supplemental information about the stores\n",
    "\n",
    "**Data fields**\n",
    "- Id - an Id that represents a (Store, Date) duple within the test set\n",
    "- Store - a unique Id for each store\n",
    "- Sales - the turnover for any given day (this is what you are predicting)\n",
    "- Customers - the number of customers on a given day\n",
    "- Open - an indicator for whether the store was open: 0 = closed, 1 = open\n",
    "- StateHoliday - indicates a state holiday. Normally all stores, with few exceptions, are closed on state holidays. Note that all schools are closed on public holidays and weekends. a = public holiday, b = Easter holiday, c = Christmas, 0 = None\n",
    "- SchoolHoliday - indicates if the (Store, Date) was affected by the closure of public schools\n",
    "- StoreType - differentiates between 4 different store models: a, b, c, d\n",
    "- Assortment - describes an assortment level: a = basic, b = extra, c = extended\n",
    "- CompetitionDistance - distance in meters to the nearest competitor store\n",
    "- CompetitionOpenSince[Month/Year] - gives the approximate year and month of the time the nearest competitor was opened\n",
    "- Promo - indicates whether a store is running a promo on that day\n",
    "- Promo2 - Promo2 is a continuing and consecutive promotion for some stores: 0 = store is not participating, 1 = store is participating\n",
    "- Promo2Since[Year/Week] - describes the year and calendar week when the store started participating in Promo2\n",
    "- PromoInterval - describes the consecutive intervals Promo2 is started, naming the months the promotion is started anew. E.g. \"Feb,May,Aug,Nov\" means each round starts in February, May, August, November of any given year for that store"
   ]
  },
  {
   "cell_type": "markdown",
   "metadata": {},
   "source": [
    "## 1.1. Imports"
   ]
  },
  {
   "cell_type": "code",
   "execution_count": null,
   "metadata": {},
   "outputs": [],
   "source": [
    "import pandas as pd\n",
    "import matplotlib.pyplot as plt\n",
    "import seaborn as sns\n",
    "import numpy as np\n",
    "sns.set_theme(style=\"whitegrid\")\n",
    "\n",
    "from sklearn.model_selection import train_test_split\n",
    "from sklearn.preprocessing import OneHotEncoder, StandardScaler\n",
    "\n",
    "from pathlib import Path"
   ]
  },
  {
   "cell_type": "markdown",
   "metadata": {},
   "source": [
    "## 1.2. Loading data"
   ]
  },
  {
   "cell_type": "code",
   "execution_count": null,
   "metadata": {},
   "outputs": [],
   "source": [
    "FOLDER_PATH = Path('../data/raw')"
   ]
  },
  {
   "cell_type": "code",
   "execution_count": null,
   "metadata": {},
   "outputs": [],
   "source": [
    "df_store = pd.read_csv(filepath_or_buffer=FOLDER_PATH / \"store.csv\")\n",
    "df_train_raw = pd.read_csv(filepath_or_buffer=FOLDER_PATH / \"train.csv\", low_memory=False)"
   ]
  },
  {
   "cell_type": "markdown",
   "metadata": {},
   "source": [
    "# 2. Exploratory data analisys"
   ]
  },
  {
   "cell_type": "markdown",
   "metadata": {},
   "source": [
    "## 2.1. Data description"
   ]
  },
  {
   "cell_type": "markdown",
   "metadata": {},
   "source": [
    "### 2.1.1. Store"
   ]
  },
  {
   "cell_type": "code",
   "execution_count": null,
   "metadata": {},
   "outputs": [],
   "source": [
    "# Information of each store\n",
    "df_store.info()"
   ]
  },
  {
   "cell_type": "code",
   "execution_count": null,
   "metadata": {},
   "outputs": [],
   "source": [
    "# Is there any duplicated store?\n",
    "assert df_store.duplicated(subset=['Store']).sum() == 0"
   ]
  },
  {
   "cell_type": "code",
   "execution_count": null,
   "metadata": {},
   "outputs": [],
   "source": [
    "df_store.sample(10)"
   ]
  },
  {
   "cell_type": "code",
   "execution_count": null,
   "metadata": {},
   "outputs": [],
   "source": [
    "df_store[\"PromoInterval\"].value_counts()"
   ]
  },
  {
   "cell_type": "code",
   "execution_count": null,
   "metadata": {},
   "outputs": [],
   "source": [
    "# When a store is not participating of a continuing promotion, \"Promo2SinceWeek\", \"Promo2SinceYear\" and \"PromoInterval\" have NaN\n",
    "df_store[[\"Promo2\", \"Promo2SinceWeek\", \"Promo2SinceYear\", \"PromoInterval\"]]"
   ]
  },
  {
   "cell_type": "code",
   "execution_count": null,
   "metadata": {},
   "outputs": [],
   "source": [
    "df_store.groupby(\"Promo2\")[\"Promo2SinceWeek\"].unique()"
   ]
  },
  {
   "cell_type": "code",
   "execution_count": null,
   "metadata": {},
   "outputs": [],
   "source": [
    "df_store.groupby(\"Promo2\")[\"Promo2SinceYear\"].unique()"
   ]
  },
  {
   "cell_type": "code",
   "execution_count": null,
   "metadata": {},
   "outputs": [],
   "source": [
    "df_store.groupby(\"Promo2\")[\"PromoInterval\"].unique()"
   ]
  },
  {
   "cell_type": "markdown",
   "metadata": {},
   "source": [
    "**OBS.:**\n",
    "- StoreType: change to category\n",
    "- Assortment: change to category\n",
    "- CompetitionOpenSinceMonth: change to int and add instance month when is NaN\n",
    "- CompetitionOpenSinceYear: change to int and add instance year when is NaN\n",
    "- Promo2SinceWeek: fill NaN with zero; change to int\n",
    "- Promo2SinceYear: fill NaN with zero; change to int\n",
    "- PromoInterval: fill NaN with zero; there are three intervals, change to a categorical value"
   ]
  },
  {
   "cell_type": "markdown",
   "metadata": {},
   "source": [
    "StoreType"
   ]
  },
  {
   "cell_type": "code",
   "execution_count": null,
   "metadata": {},
   "outputs": [],
   "source": [
    "df_store[\"StoreType\"].value_counts()"
   ]
  },
  {
   "cell_type": "markdown",
   "metadata": {},
   "source": [
    "Assortment"
   ]
  },
  {
   "cell_type": "code",
   "execution_count": null,
   "metadata": {},
   "outputs": [],
   "source": [
    "assortment_map = {\"a\": \"basic\",\n",
    "                  \"b\": \"extra\",\n",
    "                  \"c\": \"extended\"}"
   ]
  },
  {
   "cell_type": "code",
   "execution_count": null,
   "metadata": {},
   "outputs": [],
   "source": [
    "df_store[\"Assortment\"] = df_store[\"Assortment\"].map(assortment_map)"
   ]
  },
  {
   "cell_type": "code",
   "execution_count": null,
   "metadata": {},
   "outputs": [],
   "source": [
    "df_store[\"Assortment\"].value_counts()"
   ]
  },
  {
   "cell_type": "code",
   "execution_count": null,
   "metadata": {},
   "outputs": [],
   "source": [
    "df_store[\"Assortment\"].isna().sum()"
   ]
  },
  {
   "cell_type": "markdown",
   "metadata": {},
   "source": [
    "CompetitionDistance\n",
    "- NaN values could be related to a store with no competitors nearby\n",
    "- Replace NaN with the max distance"
   ]
  },
  {
   "cell_type": "code",
   "execution_count": null,
   "metadata": {},
   "outputs": [],
   "source": [
    "df_store[df_store[\"CompetitionDistance\"].isna()]"
   ]
  },
  {
   "cell_type": "code",
   "execution_count": null,
   "metadata": {},
   "outputs": [],
   "source": [
    "df_store[\"CompetitionDistance\"].describe()"
   ]
  },
  {
   "cell_type": "code",
   "execution_count": null,
   "metadata": {},
   "outputs": [],
   "source": [
    "sns.boxplot(data=df_store, x=df_store[\"CompetitionDistance\"])"
   ]
  },
  {
   "cell_type": "code",
   "execution_count": null,
   "metadata": {},
   "outputs": [],
   "source": [
    "df_store[\"CompetitionDistance\"] = df_store[\"CompetitionDistance\"].fillna(value=df_store[\"CompetitionDistance\"].max())"
   ]
  },
  {
   "cell_type": "code",
   "execution_count": null,
   "metadata": {},
   "outputs": [],
   "source": [
    "df_store[\"CompetitionDistance\"].isna().sum()"
   ]
  },
  {
   "cell_type": "markdown",
   "metadata": {},
   "source": [
    "### 2.1.2. Train"
   ]
  },
  {
   "cell_type": "code",
   "execution_count": null,
   "metadata": {},
   "outputs": [],
   "source": [
    "df_train_raw.info()"
   ]
  },
  {
   "cell_type": "markdown",
   "metadata": {},
   "source": [
    "Date"
   ]
  },
  {
   "cell_type": "code",
   "execution_count": null,
   "metadata": {},
   "outputs": [],
   "source": [
    "# Change Date type to datetime\n",
    "df_train_raw[\"Date\"] = pd.to_datetime(df_train_raw[\"Date\"])"
   ]
  },
  {
   "cell_type": "code",
   "execution_count": null,
   "metadata": {},
   "outputs": [],
   "source": [
    "df_train_raw"
   ]
  },
  {
   "cell_type": "markdown",
   "metadata": {},
   "source": [
    "StateHoliday"
   ]
  },
  {
   "cell_type": "code",
   "execution_count": null,
   "metadata": {},
   "outputs": [],
   "source": [
    "holidays = {\"a\": \"public\",\n",
    "            \"b\": \"easter\",\n",
    "            \"c\": \"xmas\",\n",
    "            \"0\": \"none\"}\n",
    "\n",
    "df_train_raw.loc[:, \"StateHoliday\"] = df_train_raw[\"StateHoliday\"].map(holidays)"
   ]
  },
  {
   "cell_type": "code",
   "execution_count": null,
   "metadata": {},
   "outputs": [],
   "source": [
    "df_train_raw[\"StateHoliday\"].value_counts()"
   ]
  },
  {
   "cell_type": "code",
   "execution_count": null,
   "metadata": {},
   "outputs": [],
   "source": [
    "df_train_raw.groupby(\"StateHoliday\")[\"Open\"].value_counts(normalize=True)"
   ]
  },
  {
   "cell_type": "code",
   "execution_count": null,
   "metadata": {},
   "outputs": [],
   "source": [
    "# There should be no repeated dates for each store\n",
    "assert df_train_raw.duplicated(subset=[\"Store\", \"Date\"]).sum() == 0"
   ]
  },
  {
   "cell_type": "code",
   "execution_count": null,
   "metadata": {},
   "outputs": [],
   "source": [
    "# Number of instances for each store\n",
    "df_train_raw.groupby(\"Store\").size().value_counts()"
   ]
  },
  {
   "cell_type": "code",
   "execution_count": null,
   "metadata": {},
   "outputs": [],
   "source": [
    "# Closed store has no sales, so it is not relevant\n",
    "original_shape = df_train_raw.shape\n",
    "df_train_raw = df_train_raw[df_train_raw[\"Open\"] == 1]\n",
    "df_train_raw = df_train_raw.drop(columns=[\"Open\"])\n",
    "print(f\"Original shape: {original_shape}\")\n",
    "print(f\"New shape: {df_train_raw.shape}\")\n",
    "print(f\"Removed lines: {original_shape[0] - df_train_raw.shape[0]}\")"
   ]
  },
  {
   "cell_type": "markdown",
   "metadata": {},
   "source": [
    "### 2.1.3. Join train and store dataframes"
   ]
  },
  {
   "cell_type": "code",
   "execution_count": null,
   "metadata": {},
   "outputs": [],
   "source": [
    "df_raw = pd.merge(df_train_raw, df_store, how=\"left\", on=\"Store\")\n",
    "df_raw.shape"
   ]
  },
  {
   "cell_type": "markdown",
   "metadata": {},
   "source": [
    "## 2.2. Data analisys"
   ]
  },
  {
   "cell_type": "markdown",
   "metadata": {},
   "source": [
    "CompetitionOpenSinceMonth\n",
    "- When there is no month, the month of the column Date will be used\n",
    "- Doing this I am saing the competitor has opened at the some day of the registered sale"
   ]
  },
  {
   "cell_type": "code",
   "execution_count": null,
   "metadata": {},
   "outputs": [],
   "source": [
    "df_raw[\"CompetitionOpenSinceMonth\"].isna().sum()"
   ]
  },
  {
   "cell_type": "code",
   "execution_count": null,
   "metadata": {},
   "outputs": [],
   "source": [
    "df_raw[\"CompetitionOpenSinceMonth\"] = df_raw[\"CompetitionOpenSinceMonth\"].fillna(value=df_raw[\"Date\"].dt.month)\n",
    "assert df_raw[\"CompetitionOpenSinceMonth\"].isna().sum() == 0"
   ]
  },
  {
   "cell_type": "markdown",
   "metadata": {},
   "source": [
    "CompetitionOpenSinceYear\n",
    "- Same approach from the Month"
   ]
  },
  {
   "cell_type": "code",
   "execution_count": null,
   "metadata": {},
   "outputs": [],
   "source": [
    "df_raw[\"CompetitionOpenSinceYear\"].isna().sum()"
   ]
  },
  {
   "cell_type": "code",
   "execution_count": null,
   "metadata": {},
   "outputs": [],
   "source": [
    "df_raw[\"CompetitionOpenSinceYear\"] = df_raw[\"CompetitionOpenSinceYear\"].fillna(value=df_raw[\"Date\"].dt.year)\n",
    "assert df_raw[\"CompetitionOpenSinceYear\"].isna().sum() == 0"
   ]
  },
  {
   "cell_type": "markdown",
   "metadata": {},
   "source": [
    "Promo2SinceWeek and Promo2SinceYear\n",
    "- All the missing values occour when Promo2 is zero\n",
    "- Replace with zero, too"
   ]
  },
  {
   "cell_type": "code",
   "execution_count": null,
   "metadata": {},
   "outputs": [],
   "source": [
    "df_raw.groupby(\"Promo2\")[\"Promo2SinceWeek\"].unique()"
   ]
  },
  {
   "cell_type": "code",
   "execution_count": null,
   "metadata": {},
   "outputs": [],
   "source": [
    "df_raw.groupby(\"Promo2\")[\"Promo2SinceYear\"].unique()"
   ]
  },
  {
   "cell_type": "code",
   "execution_count": null,
   "metadata": {},
   "outputs": [],
   "source": [
    "df_raw.loc[:, \"Promo2SinceWeek\"] = df_raw[\"Promo2SinceWeek\"].fillna(value=0)\n",
    "df_raw.loc[:, \"Promo2SinceYear\"] = df_raw[\"Promo2SinceYear\"].fillna(value=0)"
   ]
  },
  {
   "cell_type": "code",
   "execution_count": null,
   "metadata": {},
   "outputs": [],
   "source": [
    "assert df_raw[\"Promo2SinceWeek\"].isna().sum() == 0\n",
    "assert df_raw[\"Promo2SinceYear\"].isna().sum() == 0"
   ]
  },
  {
   "cell_type": "markdown",
   "metadata": {},
   "source": [
    "PromoInterval\n",
    "- Replace NaN with zero\n",
    "- Map three intervals corresponding the three groups of month"
   ]
  },
  {
   "cell_type": "code",
   "execution_count": null,
   "metadata": {},
   "outputs": [],
   "source": [
    "df_raw.groupby(\"Promo2\")[\"PromoInterval\"].unique()"
   ]
  },
  {
   "cell_type": "code",
   "execution_count": null,
   "metadata": {},
   "outputs": [],
   "source": [
    "df_raw[\"PromoInterval\"].unique()"
   ]
  },
  {
   "cell_type": "code",
   "execution_count": null,
   "metadata": {},
   "outputs": [],
   "source": [
    "df_raw.loc[:, \"PromoInterval\"] = df_raw[\"PromoInterval\"].fillna(value=0)"
   ]
  },
  {
   "cell_type": "code",
   "execution_count": null,
   "metadata": {},
   "outputs": [],
   "source": [
    "promo_intervals = {0: 0,\n",
    "                   \"Jan,Apr,Jul,Oct\": 1,\n",
    "                   \"Feb,May,Aug,Nov\": 2,\n",
    "                   \"Mar,Jun,Sept,Dec\": 3}\n",
    "\n",
    "df_raw.loc[:, \"PromoInterval\"] = df_raw[\"PromoInterval\"].map(promo_intervals)"
   ]
  },
  {
   "cell_type": "code",
   "execution_count": null,
   "metadata": {},
   "outputs": [],
   "source": [
    "assert df_raw[\"PromoInterval\"].isna().sum() == 0"
   ]
  },
  {
   "cell_type": "markdown",
   "metadata": {},
   "source": [
    "Changing types"
   ]
  },
  {
   "cell_type": "code",
   "execution_count": null,
   "metadata": {},
   "outputs": [],
   "source": [
    "# Changing types\n",
    "df_raw[\"CompetitionOpenSinceMonth\"] = df_raw[\"CompetitionOpenSinceMonth\"].astype(int)\n",
    "df_raw[\"CompetitionOpenSinceYear\"] = df_raw[\"CompetitionOpenSinceYear\"].astype(int)\n",
    "df_raw[\"Promo2SinceWeek\"] = df_raw[\"Promo2SinceWeek\"].astype(int)\n",
    "df_raw[\"Promo2SinceYear\"] = df_raw[\"Promo2SinceYear\"].astype(int)"
   ]
  },
  {
   "cell_type": "code",
   "execution_count": null,
   "metadata": {},
   "outputs": [],
   "source": [
    "df_raw.info()"
   ]
  },
  {
   "cell_type": "code",
   "execution_count": null,
   "metadata": {},
   "outputs": [],
   "source": [
    "num_attributes = ['Store', 'DayOfWeek', 'Sales', 'Customers', 'CompetitionDistance', 'CompetitionOpenSinceMonth',\n",
    "                  'CompetitionOpenSinceYear', 'Promo2SinceWeek', 'Promo2SinceYear']"
   ]
  },
  {
   "cell_type": "code",
   "execution_count": null,
   "metadata": {},
   "outputs": [],
   "source": [
    "df_raw[num_attributes].describe().T"
   ]
  },
  {
   "cell_type": "code",
   "execution_count": null,
   "metadata": {},
   "outputs": [],
   "source": [
    "sns.boxplot(df_raw[\"CompetitionOpenSinceYear\"], orient=\"h\")"
   ]
  },
  {
   "cell_type": "code",
   "execution_count": null,
   "metadata": {},
   "outputs": [],
   "source": [
    "# Rossmann company was founded in 1972.\n",
    "# Replace year 1900 by the next min year.\n",
    "comp_open_since_y = df_raw[df_raw[\"CompetitionOpenSinceYear\"] != 1900][\"CompetitionOpenSinceYear\"].min()\n",
    "df_raw.loc[df_raw[\"CompetitionOpenSinceYear\"] == 1900, \"CompetitionOpenSinceYear\"] = comp_open_since_y"
   ]
  },
  {
   "cell_type": "code",
   "execution_count": null,
   "metadata": {},
   "outputs": [],
   "source": [
    "df_raw[num_attributes].describe().T"
   ]
  },
  {
   "cell_type": "markdown",
   "metadata": {},
   "source": [
    "Sales"
   ]
  },
  {
   "cell_type": "code",
   "execution_count": null,
   "metadata": {},
   "outputs": [],
   "source": [
    "sns.histplot(data=df_raw, x=\"Sales\", bins=30)"
   ]
  },
  {
   "cell_type": "markdown",
   "metadata": {},
   "source": [
    "Ex: Store 1 daily Sales"
   ]
  },
  {
   "cell_type": "code",
   "execution_count": null,
   "metadata": {},
   "outputs": [],
   "source": [
    "store_n = 1\n",
    "df_raw_store = df_raw[df_raw[\"Store\"] == store_n][[\"Date\", \"Sales\"]]\n",
    "fig, ax = plt.subplots(figsize=(12,5))\n",
    "sns.lineplot(data=df_raw_store, x=\"Date\", y=\"Sales\")\n",
    "plt.title(f\"Store {store_n} daily sales\")"
   ]
  },
  {
   "cell_type": "markdown",
   "metadata": {},
   "source": [
    "**Hypothesis:**"
   ]
  },
  {
   "cell_type": "markdown",
   "metadata": {},
   "source": [
    "**1.** Stores with extended assortment should sell more. **FALSE**"
   ]
  },
  {
   "cell_type": "code",
   "execution_count": null,
   "metadata": {},
   "outputs": [],
   "source": [
    "sns.barplot(df_raw.groupby(\"Assortment\")[\"Sales\"].sum())"
   ]
  },
  {
   "cell_type": "markdown",
   "metadata": {},
   "source": [
    "**2.** Stores with closer competitors should sell less. **FALSE**"
   ]
  },
  {
   "cell_type": "code",
   "execution_count": null,
   "metadata": {},
   "outputs": [],
   "source": [
    "hyp2 = df_raw[[\"CompetitionDistance\", \"Assortment\", \"Sales\"]]\\\n",
    "    .groupby([\"CompetitionDistance\", \"Assortment\"])[\"Sales\"].sum().reset_index()\n",
    "hyp2"
   ]
  },
  {
   "cell_type": "code",
   "execution_count": null,
   "metadata": {},
   "outputs": [],
   "source": [
    "sns.scatterplot(data=hyp2, x=\"CompetitionDistance\", y=\"Sales\", hue=\"Assortment\")"
   ]
  },
  {
   "cell_type": "markdown",
   "metadata": {},
   "source": [
    "**3.** Stores with long-standing competitors should sell more. **FALSE**"
   ]
  },
  {
   "cell_type": "code",
   "execution_count": null,
   "metadata": {},
   "outputs": [],
   "source": [
    "max_year_sales = df_raw.groupby([\"Store\"])[\"Date\"].max().dt.year.reset_index()\n",
    "max_year_sales.rename(columns={\"Date\": \"CurrentYear\"}, inplace=True)"
   ]
  },
  {
   "cell_type": "code",
   "execution_count": null,
   "metadata": {},
   "outputs": [],
   "source": [
    "hyp3 = df_raw[[\"Store\", \"CompetitionOpenSinceYear\", \"Sales\"]]\\\n",
    "    .groupby([\"Store\", \"CompetitionOpenSinceYear\"])[\"Sales\"].sum().reset_index()"
   ]
  },
  {
   "cell_type": "code",
   "execution_count": null,
   "metadata": {},
   "outputs": [],
   "source": [
    "hyp3 = pd.merge(hyp3, max_year_sales, on=\"Store\", how=\"left\")\n",
    "hyp3[\"CompetitionOpenedWeeks\"] = (hyp3[\"CurrentYear\"] - hyp3[\"CompetitionOpenSinceYear\"]) * 52"
   ]
  },
  {
   "cell_type": "code",
   "execution_count": null,
   "metadata": {},
   "outputs": [],
   "source": [
    "fig, ax = plt.subplots(figsize=(12,5))\n",
    "sns.barplot(hyp3.groupby(\"CompetitionOpenedWeeks\")[\"Sales\"].sum(), ax=ax)\n",
    "plt.title(\"Total store sales based on time since the nearest competitor opened\")\n",
    "plt.ylabel(\"Total Sales\")\n",
    "plt.xticks(rotation=45);"
   ]
  },
  {
   "cell_type": "markdown",
   "metadata": {},
   "source": [
    "**4.** Stores opened in Christmas holiday shoul sell more. **FALSE**"
   ]
  },
  {
   "cell_type": "code",
   "execution_count": null,
   "metadata": {},
   "outputs": [],
   "source": [
    "df_raw.groupby(\"StateHoliday\")[\"Sales\"].sum()"
   ]
  },
  {
   "cell_type": "code",
   "execution_count": null,
   "metadata": {},
   "outputs": [],
   "source": [
    "hyp4a = df_raw.query(\"StateHoliday != 'none'\").groupby(\"StateHoliday\")[\"Sales\"].sum().reset_index().sort_values(by=\"Sales\")"
   ]
  },
  {
   "cell_type": "code",
   "execution_count": null,
   "metadata": {},
   "outputs": [],
   "source": [
    "hyp4b = df_raw[[\"Date\", \"StateHoliday\", \"Sales\"]].groupby([df_raw[\"Date\"].dt.year, \"StateHoliday\"])[\"Sales\"].sum().reset_index()\n",
    "hyp4b = hyp4b[hyp4b[\"StateHoliday\"] != \"none\"]"
   ]
  },
  {
   "cell_type": "code",
   "execution_count": null,
   "metadata": {},
   "outputs": [],
   "source": [
    "fig, ax = plt.subplots(nrows=1, ncols=2, figsize=(16,5))\n",
    "sns.barplot(data=hyp4a, x=\"StateHoliday\", y=\"Sales\", ax=ax[0])\n",
    "sns.barplot(data=hyp4b, x=\"Date\", y=\"Sales\", hue=\"StateHoliday\", ax=ax[1])"
   ]
  },
  {
   "cell_type": "markdown",
   "metadata": {},
   "source": [
    "**5.** Stores should sell more over the years. **IN TERMS OF ABSOLUTE VALUES IS FALSE**"
   ]
  },
  {
   "cell_type": "code",
   "execution_count": null,
   "metadata": {},
   "outputs": [],
   "source": [
    "hyp5 = df_raw[[\"Date\", \"Sales\"]].copy()\n",
    "hyp5[\"Year\"] = hyp5[\"Date\"].dt.year\n",
    "hyp5.drop(columns=\"Date\", inplace=True)\n",
    "hyp5"
   ]
  },
  {
   "cell_type": "code",
   "execution_count": null,
   "metadata": {},
   "outputs": [],
   "source": [
    "fig, ax = plt.subplots(nrows=1, ncols=2, figsize=(16 ,5))\n",
    "sns.barplot(data=hyp5, x=\"Year\", y=\"Sales\", estimator=\"mean\", errorbar=\"sd\", ax=ax[0])\n",
    "sns.barplot(data=hyp5, x=\"Year\", y=\"Sales\", estimator=\"sum\", errorbar=\"sd\", ax=ax[1])\n",
    "ax[0].set_title(\"Average sales over the years\")\n",
    "ax[1].set_title(\"Total sales over the years\")\n",
    "ax[0].set_xlabel(\"Year\")\n",
    "ax[1].set_xlabel(\"Year\")\n",
    "ax[0].set_ylabel(\"Average Sales\")\n",
    "ax[1].set_ylabel(\"Total Sales\")"
   ]
  },
  {
   "cell_type": "markdown",
   "metadata": {},
   "source": [
    "**6.** Stores should sell more in the second half of the year. **FALSE**"
   ]
  },
  {
   "cell_type": "code",
   "execution_count": null,
   "metadata": {},
   "outputs": [],
   "source": [
    "hyp6a = df_raw.groupby([df_raw[\"Date\"].dt.year, df_raw[\"Date\"].dt.month])[[\"Sales\"]].sum()\n",
    "hyp6a.index.names = [\"Year\", \"Month\"]\n",
    "hyp6a = hyp6a.reset_index()"
   ]
  },
  {
   "cell_type": "code",
   "execution_count": null,
   "metadata": {},
   "outputs": [],
   "source": [
    "fig = sns.FacetGrid(data=hyp6a, col=\"Year\", sharey=True, height=5)\n",
    "fig.map(sns.barplot, \"Month\", \"Sales\", order=sorted(hyp6a[\"Month\"].unique()))"
   ]
  },
  {
   "cell_type": "code",
   "execution_count": null,
   "metadata": {},
   "outputs": [],
   "source": [
    "hyp6a[\"Sem\"] = hyp6a[\"Month\"].apply(lambda x: 1 if x <= 6 else 2)"
   ]
  },
  {
   "cell_type": "code",
   "execution_count": null,
   "metadata": {},
   "outputs": [],
   "source": [
    "sns.barplot(data=hyp6a.groupby([\"Year\", \"Sem\"])[\"Sales\"].sum().reset_index(), x=\"Sem\", y=\"Sales\", hue=\"Year\")"
   ]
  },
  {
   "cell_type": "markdown",
   "metadata": {},
   "source": [
    "**7.** Stores should sell less on weekends. **FALSE**"
   ]
  },
  {
   "cell_type": "code",
   "execution_count": null,
   "metadata": {},
   "outputs": [],
   "source": [
    "sns.barplot(data=df_raw.groupby(\"DayOfWeek\")[\"Sales\"].mean().reset_index(), x=\"DayOfWeek\", y=\"Sales\")\n",
    "plt.title(\"Daily total sales\")\n",
    "plt.xlabel(\"Day\")\n",
    "plt.ylabel(\"Total Sales\")\n",
    "plt.xticks(ticks=[0,1,2,3,4,5,6], labels=[\"Sun\", \"Mon\", \"Tue\", \"Wed\", \"Thu\", \"Fri\", \"Sat\"]);"
   ]
  },
  {
   "cell_type": "markdown",
   "metadata": {},
   "source": [
    "**8.** Stores should sell less during school holidays. **TRUE FOR TOTAL SALES**"
   ]
  },
  {
   "cell_type": "code",
   "execution_count": null,
   "metadata": {},
   "outputs": [],
   "source": [
    "sns.barplot(data=df_raw.groupby(\"SchoolHoliday\")[\"Sales\"].sum().reset_index(), x=\"SchoolHoliday\", y=\"Sales\")\n",
    "plt.title(\"Daily total sales\")\n",
    "plt.xlabel(\"School holiday\")\n",
    "plt.ylabel(\"Total Sales\");"
   ]
  },
  {
   "cell_type": "markdown",
   "metadata": {},
   "source": [
    "# 3. Data preparation"
   ]
  },
  {
   "cell_type": "markdown",
   "metadata": {},
   "source": [
    "## 3.1. Changing data types"
   ]
  },
  {
   "cell_type": "code",
   "execution_count": null,
   "metadata": {},
   "outputs": [],
   "source": [
    "df_raw[\"PromoInterval\"] = df_raw[\"PromoInterval\"].astype(dtype=\"category\")\n",
    "df_raw[\"Promo\"] = df_raw[\"Promo\"].astype(dtype=\"category\")\n",
    "df_raw[\"SchoolHoliday\"] = df_raw[\"SchoolHoliday\"].astype(\"category\")\n",
    "df_raw[\"Promo2\"] = df_raw[\"Promo2\"].astype(\"category\")"
   ]
  },
  {
   "cell_type": "markdown",
   "metadata": {},
   "source": [
    "## 3.2. Feature creation"
   ]
  },
  {
   "cell_type": "code",
   "execution_count": null,
   "metadata": {},
   "outputs": [],
   "source": [
    "def CreateLagFeature(df):\n",
    "    for lag in [7, 14, 28]:\n",
    "        df[f\"Sales_lag_{lag}\"] = df.sort_values(by=[\"Store\", \"Date\"]).groupby(\"Store\")[\"Sales\"].shift(lag)\n",
    "    return df"
   ]
  },
  {
   "cell_type": "code",
   "execution_count": null,
   "metadata": {},
   "outputs": [],
   "source": [
    "def CreateRollingMeanFeature(df):\n",
    "    for window in [7, 14, 28]:\n",
    "        df[f\"Sales_roll_mean_{window}\"] = df.sort_values(by=[\"Store\", \"Date\"])[\"Sales\"].rolling(window=window, closed=\"left\").mean()\n",
    "    return df"
   ]
  },
  {
   "cell_type": "code",
   "execution_count": null,
   "metadata": {},
   "outputs": [],
   "source": [
    "def FeatureCreation(df):\n",
    "    df[\"DayOfYear\"] = df[\"Date\"].dt.day_of_year\n",
    "    df[\"Year\"] = df[\"Date\"].dt.year\n",
    "    df[\"QuarterOfYear\"] = df[\"Date\"].dt.quarter\n",
    "    df[\"Month\"] = df[\"Date\"].dt.month\n",
    "    df[\"WeekOfYear\"] = df[\"Date\"].dt.isocalendar().week\n",
    "    df = CreateLagFeature(df)\n",
    "    df = CreateRollingMeanFeature(df)\n",
    "    df.dropna(inplace=True)\n",
    "    return df"
   ]
  },
  {
   "cell_type": "code",
   "execution_count": null,
   "metadata": {},
   "outputs": [],
   "source": [
    "df_raw = FeatureCreation(df_raw)"
   ]
  },
  {
   "cell_type": "code",
   "execution_count": null,
   "metadata": {},
   "outputs": [],
   "source": [
    "store_n = 1\n",
    "year = 2014\n",
    "df_raw_store = df_raw[(df_raw[\"Store\"] == store_n) & (df_raw[\"Date\"].dt.year == year)][[\"Date\", \"Sales\"]]\n",
    "fig, ax = plt.subplots(figsize=(12,5))\n",
    "sns.lineplot(data=df_raw_store, x=\"Date\", y=\"Sales\", label=\"Train set\")\n",
    "plt.title(f\"Store {store_n} - one year sales\")"
   ]
  },
  {
   "cell_type": "code",
   "execution_count": null,
   "metadata": {},
   "outputs": [],
   "source": [
    "store_n = 1\n",
    "df_raw_store = df_raw[df_raw[\"Store\"] == store_n][[\"Date\", \"Sales\"]]\n",
    "fig, ax = plt.subplots(figsize=(12,5))\n",
    "sns.lineplot(data=df_raw_store, x=\"Date\", y=\"Sales\", label=\"Train set\")\n",
    "plt.title(f\"Store {store_n} - daily sales\")"
   ]
  },
  {
   "cell_type": "markdown",
   "metadata": {},
   "source": [
    "## 3.3. Encoding"
   ]
  },
  {
   "cell_type": "markdown",
   "metadata": {},
   "source": [
    "### StateHoliday"
   ]
  },
  {
   "cell_type": "code",
   "execution_count": null,
   "metadata": {},
   "outputs": [],
   "source": [
    "ohe_stt_hld = OneHotEncoder(sparse_output=False, dtype=\"int\").set_output(transform=\"pandas\")\n",
    "stt_hld = ohe_stt_hld.fit_transform(df_raw[[\"StateHoliday\"]])\n",
    "df_raw = pd.concat(objs=[df_raw, stt_hld], axis=\"columns\").drop(columns=\"StateHoliday\")"
   ]
  },
  {
   "cell_type": "markdown",
   "metadata": {},
   "source": [
    "### StoreType"
   ]
  },
  {
   "cell_type": "code",
   "execution_count": null,
   "metadata": {},
   "outputs": [],
   "source": [
    "ohe_sto_typ = OneHotEncoder(sparse_output=False, dtype=\"int\").set_output(transform=\"pandas\")\n",
    "sto_typ = ohe_sto_typ.fit_transform(df_raw[[\"StoreType\"]])\n",
    "df_raw = pd.concat(objs=[df_raw, sto_typ], axis=\"columns\").drop(columns=\"StoreType\")"
   ]
  },
  {
   "cell_type": "markdown",
   "metadata": {},
   "source": [
    "### Assortment"
   ]
  },
  {
   "cell_type": "code",
   "execution_count": null,
   "metadata": {},
   "outputs": [],
   "source": [
    "ohe_assort = OneHotEncoder(sparse_output=False, dtype=\"int\").set_output(transform=\"pandas\")\n",
    "assort = ohe_assort.fit_transform(df_raw[[\"Assortment\"]])\n",
    "df_raw = pd.concat(objs=[df_raw, assort], axis=\"columns\").drop(columns=\"Assortment\")"
   ]
  },
  {
   "cell_type": "markdown",
   "metadata": {},
   "source": [
    "## 3.4. Scaling"
   ]
  },
  {
   "cell_type": "code",
   "execution_count": null,
   "metadata": {},
   "outputs": [],
   "source": [
    "lag_rolling_features = [col for col in df_raw.columns if \"Sales_lag\" in col or \"Sales_roll\" in col]"
   ]
  },
  {
   "cell_type": "code",
   "execution_count": null,
   "metadata": {},
   "outputs": [],
   "source": [
    "std_scaler = StandardScaler()\n",
    "df_raw[lag_rolling_features] = std_scaler.fit_transform(df_raw[lag_rolling_features])"
   ]
  },
  {
   "cell_type": "markdown",
   "metadata": {},
   "source": [
    "## 3.5. Train-test split"
   ]
  },
  {
   "cell_type": "markdown",
   "metadata": {},
   "source": [
    "- It is necessary to set aside the last 6 registered weeks of each store for testing"
   ]
  },
  {
   "cell_type": "code",
   "execution_count": null,
   "metadata": {},
   "outputs": [],
   "source": [
    "def split_store_data(df, test_size=6*7):\n",
    "    stores = df[\"Store\"].unique()\n",
    "    train_list = []\n",
    "    test_list = []\n",
    "\n",
    "    for store in stores:\n",
    "        store_data = df[df[\"Store\"] == store].sort_values(by=\"Date\")\n",
    "        train, test = train_test_split(store_data, test_size=test_size, shuffle=False)\n",
    "        train_list.append(train)\n",
    "        test_list.append(test)\n",
    "\n",
    "    df_train = pd.concat(train_list)\n",
    "    df_test = pd.concat(test_list)\n",
    "    \n",
    "    return df_train, df_test"
   ]
  },
  {
   "cell_type": "code",
   "execution_count": null,
   "metadata": {},
   "outputs": [],
   "source": [
    "df_train, df_test = split_store_data(df=df_raw, test_size=6*7)"
   ]
  },
  {
   "cell_type": "code",
   "execution_count": null,
   "metadata": {},
   "outputs": [],
   "source": [
    "df_train.shape, df_test.shape"
   ]
  },
  {
   "cell_type": "code",
   "execution_count": null,
   "metadata": {},
   "outputs": [],
   "source": [
    "# Checking data splitting\n",
    "assert df_train.shape[0] + df_test.shape[0] == df_raw.shape[0], \"Problem in data splitting\""
   ]
  },
  {
   "cell_type": "code",
   "execution_count": null,
   "metadata": {},
   "outputs": [],
   "source": [
    "stores = df_store[\"Store\"].unique()\n",
    "for store in stores:\n",
    "    assert df_train[df_train[\"Store\"] == store][\"Date\"].max() < df_test[df_test[\"Store\"] == store][\"Date\"].min(), \\\n",
    "        \"Minimum test data is earlier than maximum train data\""
   ]
  },
  {
   "cell_type": "code",
   "execution_count": null,
   "metadata": {},
   "outputs": [],
   "source": [
    "df_test.columns"
   ]
  },
  {
   "cell_type": "markdown",
   "metadata": {},
   "source": [
    "## 3.6. Saving processed data"
   ]
  },
  {
   "cell_type": "code",
   "execution_count": null,
   "metadata": {},
   "outputs": [],
   "source": [
    "SAVING_PATH = Path(\"../data/processed\")\n",
    "\n",
    "df_train.to_csv(SAVING_PATH / \"train.csv\", index=False)\n",
    "df_test.to_csv(SAVING_PATH / \"test.csv\", index=False)"
   ]
  },
  {
   "cell_type": "code",
   "execution_count": null,
   "metadata": {},
   "outputs": [],
   "source": [
    "store_n = 1\n",
    "df_train_store = df_train[df_train[\"Store\"] == store_n][[\"Date\", \"Sales\"]]\n",
    "df_test_store = df_test[df_test[\"Store\"] == store_n][[\"Date\", \"Sales\"]]\n",
    "fig, ax = plt.subplots(figsize=(12,5))\n",
    "sns.lineplot(data=df_train_store, x=\"Date\", y=\"Sales\", label=\"Train set\")\n",
    "sns.lineplot(data=df_test_store, x=\"Date\", y=\"Sales\", label=\"Test set\")\n",
    "plt.title(f\"Store {store_n} daily sales\")"
   ]
  }
 ],
 "metadata": {
  "kernelspec": {
   "display_name": "venv_rossman",
   "language": "python",
   "name": "python3"
  },
  "language_info": {
   "codemirror_mode": {
    "name": "ipython",
    "version": 3
   },
   "file_extension": ".py",
   "mimetype": "text/x-python",
   "name": "python",
   "nbconvert_exporter": "python",
   "pygments_lexer": "ipython3",
   "version": "3.11.11"
  }
 },
 "nbformat": 4,
 "nbformat_minor": 2
}
